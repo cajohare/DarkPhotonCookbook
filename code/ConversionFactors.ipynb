{
 "cells": [
  {
   "cell_type": "markdown",
   "metadata": {},
   "source": [
    "# This notebook is for calculating the conversion factors used in Tables I and II\n",
    "\n",
    "It is a little lazy. For the experiments where we know everything we can calculate these, however for the ones where we don't i just take a range of possibilities"
   ]
  },
  {
   "cell_type": "code",
   "execution_count": 23,
   "metadata": {},
   "outputs": [],
   "source": [
    "from numpy import *\n",
    "from LabFuncs import *\n",
    "import matplotlib.pyplot as plt\n",
    "import matplotlib.cm as cm\n",
    "from numba import jit\n",
    "from numpy import random\n",
    "from tqdm import tqdm\n",
    "\n",
    "from scipy.special import erf\n",
    "from scipy.optimize import fsolve\n",
    "\n",
    "def ExclusionFactor(costh_samples,CL=1.64,nbins=500):\n",
    "    h,ce = histogram(costh_samples,nbins)\n",
    "    cc = (ce[1:]+ce[0:-1])/2\n",
    "    \n",
    "    P_costh = h/sum(h) \n",
    "    \n",
    "    fs = lambda P0 : 0.05-sum(0.5*(1+erf(-P0*cc/sqrt(2)))*P_costh)\n",
    "    res = fsolve(fs,1.64*3)\n",
    "    cval_excl = CL/res\n",
    "    return cval_excl\n",
    "\n",
    "\n",
    "def costh2_excl(fcosth2,lat,T,costh_X,phi_X,ngen,CL=1.64,dt=0.1):\n",
    "    t_vals = arange(0,T,dt)\n",
    "    nt = int(len(t_vals))\n",
    "\n",
    "    c1t = zeros(shape=(ngen,nt))\n",
    "\n",
    "    for i in range(0,nt):\n",
    "        c1t[:,i] = fcosth2(t_vals[i],costh_X,phi_X,lat)\n",
    "    costh2 = trapz(c1t,t_vals)/t_vals[-1]  \n",
    "    excl = ExclusionFactor(costh2,CL=CL)\n",
    "    \n",
    "    return excl\n",
    "\n",
    "        \n",
    "ngen = 1000000\n",
    "costh_X = 2*random.uniform(size=ngen)-1\n",
    "phi_X = 2*pi*random.uniform(size=ngen)"
   ]
  },
  {
   "cell_type": "code",
   "execution_count": 24,
   "metadata": {},
   "outputs": [
    {
     "name": "stdout",
     "output_type": "stream",
     "text": [
      "ADMX =  [0.29408492]\n",
      "HAYSTAC =  [0.01945755]\n",
      "CAPP-1,2 =  [0.0194127]\n",
      "CAPP-3 =  [0.019393]\n",
      "CAPP-3 KSVZ =  [0.2021591]\n"
     ]
    }
   ],
   "source": [
    "s2day = 1/(3600*24)\n",
    "min2day = 1/(60*24)\n",
    "\n",
    "print('ADMX = ',costh2_excl(costh2NW,47.66,5*min2day,costh_X,phi_X,ngen,CL=1.28,dt=10*s2day))\n",
    "\n",
    "print('HAYSTAC = ',costh2_excl(costh2Z,41.32,5*min2day,costh_X,phi_X,ngen,CL=1.28,dt=10*s2day))\n",
    "\n",
    "print('CAPP-1,2 = ',costh2_excl(costh2Z,36.35,5*min2day,costh_X,phi_X,ngen,CL=1.28,dt=10*s2day))\n",
    "\n",
    "print('CAPP-3 = ',costh2_excl(costh2Z,36.35,90*s2day,costh_X,phi_X,ngen,CL=1.28,dt=10*s2day))\n",
    "\n",
    "print('CAPP-3 KSVZ = ',costh2_excl(costh2Z,36.35,15/24,costh_X,phi_X,ngen,CL=1.28,dt=0.1/24))\n"
   ]
  },
  {
   "cell_type": "code",
   "execution_count": 3,
   "metadata": {},
   "outputs": [
    {
     "name": "stdout",
     "output_type": "stream",
     "text": [
      "QUAX [0.02345657]\n",
      "KLASH [0.01931319]\n"
     ]
    }
   ],
   "source": [
    "print('QUAX',costh2_excl(costh2Z,45.35,4203*s2day,costh_X,phi_X,ngen,CL=1.28,dt=10*s2day))\n",
    "print('KLASH',costh2_excl(costh2Z,41.80,5*min2day,costh_X,phi_X,ngen,CL=1.28,dt=10*s2day))"
   ]
  },
  {
   "cell_type": "code",
   "execution_count": 4,
   "metadata": {},
   "outputs": [
    {
     "name": "stdout",
     "output_type": "stream",
     "text": [
      "ALPHA 1.5 weeks 50 degrees N [0.28452184]\n",
      "ALPHA 1.5 weeks 30 degrees N [0.32625582]\n",
      "ALPHA 1 weeks 50 degrees N [0.28471352]\n",
      "ALPHA 1 weeks 30 degrees N [0.32643396]\n",
      "ALPHA 3.5 days 50 degrees N [0.28284978]\n",
      "ALPHA 3.5 days 30 degrees N [0.32464546]\n"
     ]
    }
   ],
   "source": [
    "# Don't give a CL but assume it's 95%\n",
    "print('ALPHA 1.5 weeks 50 degrees N',costh2_excl(costh2Z,50,7+3.5,costh_X,phi_X,ngen,dt=0.05))\n",
    "print('ALPHA 1.5 weeks 30 degrees N',costh2_excl(costh2Z,30,7+3.5,costh_X,phi_X,ngen,dt=0.05))\n",
    "print('ALPHA 1 weeks 50 degrees N',costh2_excl(costh2Z,50,7,costh_X,phi_X,ngen,dt=0.05))\n",
    "print('ALPHA 1 weeks 30 degrees N',costh2_excl(costh2Z,30,7,costh_X,phi_X,ngen,dt=0.05))\n",
    "print('ALPHA 3.5 days 50 degrees N',costh2_excl(costh2Z,50,3.5,costh_X,phi_X,ngen,dt=0.05))\n",
    "print('ALPHA 3.5 days 30 degrees N',costh2_excl(costh2Z,30,3.5,costh_X,phi_X,ngen,dt=0.05))"
   ]
  },
  {
   "cell_type": "code",
   "execution_count": 5,
   "metadata": {},
   "outputs": [
    {
     "name": "stdout",
     "output_type": "stream",
     "text": [
      "MADMAX 0.5 weeks Zenith [0.25923711]\n",
      "MADMAX 1 week Zenith [0.26092223]\n",
      "MADMAX 1.5 weeks Zenith [0.26075252]\n",
      "MADMAX 0.5 weeks North-facing [0.62228279]\n",
      "MADMAX 1 week North-facing [0.62231393]\n",
      "MADMAX 1.5 weeks North-facing [0.62232227]\n",
      "MADMAX 0.5 weeks West-facing [0.663537]\n",
      "MADMAX 1 week West-facing [0.66454189]\n",
      "MADMAX 1.5 weeks West-facing [0.66444389]\n"
     ]
    }
   ],
   "source": [
    "# Dont give a CL but assume it's 95%\n",
    "print('MADMAX 0.5 weeks Zenith',costh2_excl(costh2Z,53.57,3.5,costh_X,phi_X,ngen,dt=0.05))\n",
    "print('MADMAX 1 week Zenith',costh2_excl(costh2Z,53.57,7,costh_X,phi_X,ngen,dt=0.05))\n",
    "print('MADMAX 1.5 weeks Zenith',costh2_excl(costh2Z,53.57,7+3.5,costh_X,phi_X,ngen,dt=0.05))\n",
    "\n",
    "print('MADMAX 0.5 weeks North-facing',costh2_excl(costh2ZN,53.57,3.5,costh_X,phi_X,ngen,dt=0.05))\n",
    "print('MADMAX 1 week North-facing',costh2_excl(costh2ZN,53.57,7,costh_X,phi_X,ngen,dt=0.05))\n",
    "print('MADMAX 1.5 weeks North-facing',costh2_excl(costh2ZN,53.57,7+3.5,costh_X,phi_X,ngen,dt=0.05))\n",
    "\n",
    "print('MADMAX 0.5 weeks West-facing',costh2_excl(costh2ZW,53.57,3.5,costh_X,phi_X,ngen,dt=0.05))\n",
    "print('MADMAX 1 week West-facing',costh2_excl(costh2ZW,53.57,7,costh_X,phi_X,ngen,dt=0.05))\n",
    "print('MADMAX 1.5 weeks West-facing',costh2_excl(costh2ZW,53.57,7+3.5,costh_X,phi_X,ngen,dt=0.05))"
   ]
  },
  {
   "cell_type": "code",
   "execution_count": 6,
   "metadata": {},
   "outputs": [
    {
     "name": "stdout",
     "output_type": "stream",
     "text": [
      "LAMPOST Zenith-facing 1.5 weeks 55 degrees [0.61509664]\n",
      "LAMPOST Zenith-facing 1.5 weeks 35 degrees [0.66442163]\n",
      "LAMPOST Zenith-facing 1 weeks 50 degrees [0.61543273]\n",
      "LAMPOST Zenith-facing 1 weeks 30 degrees [0.66464306]\n",
      "LAMPOST Zenith-facing 3.5 days 50 degrees [0.61356739]\n",
      "LAMPOST Zenith-facing 3.5 days 30 degrees [0.66329763]\n",
      "LAMPOST North-facing 1.5 weeks 50 degrees [0.66468979]\n",
      "LAMPOST North-facing 1.5 weeks 30 degrees [0.61553872]\n",
      "LAMPOST North-facing 1 weeks 50 degrees [0.66465559]\n",
      "LAMPOST North-facing 1 weeks 30 degrees [0.61545186]\n",
      "LAMPOST North-facing 3.5 days 50 degrees [0.6641138]\n",
      "LAMPOST North-facing 3.5 days 30 degrees [0.6149065]\n",
      "LAMPOST West-facing 1.5 weeks [0.61949529]\n",
      "LAMPOST West-facing 1 weeks [0.61947896]\n",
      "LAMPOST West-facing 3.5 days [0.61943271]\n"
     ]
    }
   ],
   "source": [
    "ngen = 10000\n",
    "costh_X = 2*random.uniform(size=ngen)-1\n",
    "phi_X = 2*pi*random.uniform(size=ngen)\n",
    "# Dont give a CL but assume it's 95%\n",
    "\n",
    "print('LAMPOST Zenith-facing 1.5 weeks 55 degrees',costh2_excl(costh2NW,55,7+3.5,costh_X,phi_X,ngen,dt=0.05))\n",
    "print('LAMPOST Zenith-facing 1.5 weeks 35 degrees',costh2_excl(costh2NW,35,7+3.5,costh_X,phi_X,ngen,dt=0.05))\n",
    "print('LAMPOST Zenith-facing 1 weeks 50 degrees',costh2_excl(costh2NW,55,7,costh_X,phi_X,ngen,dt=0.05))\n",
    "print('LAMPOST Zenith-facing 1 weeks 30 degrees',costh2_excl(costh2NW,35,7,costh_X,phi_X,ngen,dt=0.05))\n",
    "print('LAMPOST Zenith-facing 3.5 days 50 degrees',costh2_excl(costh2NW,55,3.5,costh_X,phi_X,ngen,dt=0.05))\n",
    "print('LAMPOST Zenith-facing 3.5 days 30 degrees',costh2_excl(costh2NW,35,3.5,costh_X,phi_X,ngen,dt=0.05))\n",
    "\n",
    "print('LAMPOST North-facing 1.5 weeks 50 degrees',costh2_excl(costh2ZW,55,7+3.5,costh_X,phi_X,ngen,dt=0.05))\n",
    "print('LAMPOST North-facing 1.5 weeks 30 degrees',costh2_excl(costh2ZW,35,7+3.5,costh_X,phi_X,ngen,dt=0.05))\n",
    "print('LAMPOST North-facing 1 weeks 50 degrees',costh2_excl(costh2ZW,55,7,costh_X,phi_X,ngen,dt=0.05))\n",
    "print('LAMPOST North-facing 1 weeks 30 degrees',costh2_excl(costh2ZW,35,7,costh_X,phi_X,ngen,dt=0.05))\n",
    "print('LAMPOST North-facing 3.5 days 50 degrees',costh2_excl(costh2ZW,55,3.5,costh_X,phi_X,ngen,dt=0.05))\n",
    "print('LAMPOST North-facing 3.5 days 30 degrees',costh2_excl(costh2ZW,35,3.5,costh_X,phi_X,ngen,dt=0.05))\n",
    "\n",
    "print('LAMPOST West-facing 1.5 weeks',costh2_excl(costh2ZN,50,7+3.5,costh_X,phi_X,ngen,dt=0.05))\n",
    "print('LAMPOST West-facing 1 weeks',costh2_excl(costh2ZN,50,7,costh_X,phi_X,ngen,dt=0.05))\n",
    "print('LAMPOST West-facing 3.5 days',costh2_excl(costh2ZN,50,3.5,costh_X,phi_X,ngen,dt=0.05))\n"
   ]
  },
  {
   "cell_type": "code",
   "execution_count": 7,
   "metadata": {},
   "outputs": [
    {
     "name": "stdout",
     "output_type": "stream",
     "text": [
      "BRASS North-pointing 100 days 50 degrees [0.33234077]\n",
      "BRASS North-pointing 100 days 30 degrees [0.2502947]\n",
      "BRASS West-pointing 100 days [0.18924589]\n",
      "BRASS North-facing 100 days 50 degrees [0.66468512]\n",
      "BRASS North-facing 100 days 30 degrees [0.61266792]\n",
      "BRASS West-facing 100 days [0.62193157]\n"
     ]
    }
   ],
   "source": [
    "ngen = 100000\n",
    "costh_X = 2*random.uniform(size=ngen)-1\n",
    "phi_X = 2*pi*random.uniform(size=ngen)\n",
    "# Dont give a CL but assume it's 95%\n",
    "print('BRASS North-pointing 100 days 50 degrees',costh2_excl(costh2N,55,100,costh_X,phi_X,ngen,dt=0.1))\n",
    "print('BRASS North-pointing 100 days 30 degrees',costh2_excl(costh2N,35,100,costh_X,phi_X,ngen,dt=0.1))\n",
    "print('BRASS West-pointing 100 days',costh2_excl(costh2W,50,100,costh_X,phi_X,ngen,dt=0.05))\n",
    "print('BRASS North-facing 100 days 50 degrees',costh2_excl(costh2ZW,55,100,costh_X,phi_X,ngen,dt=0.1))\n",
    "print('BRASS North-facing 100 days 30 degrees',costh2_excl(costh2ZW,35,100,costh_X,phi_X,ngen,dt=0.1))\n",
    "print('BRASS West-facing 100 days',costh2_excl(costh2ZN,50,100,costh_X,phi_X,ngen,dt=0.05))\n"
   ]
  },
  {
   "cell_type": "code",
   "execution_count": 8,
   "metadata": {},
   "outputs": [
    {
     "name": "stdout",
     "output_type": "stream",
     "text": [
      "DALI North-facing 30 days 50 degrees [0.66469677]\n",
      "DALI North-facing 30.25 days 30 degrees [0.61206016]\n",
      "DALI Zenith-facing 30 days max [0.66469318]\n",
      "DALI Zenith-facing 30.25 days min [0.61205814]\n",
      "DALI West-facing 100 days [0.62185867]\n"
     ]
    }
   ],
   "source": [
    "ngen = 10000\n",
    "costh_X = 2*random.uniform(size=ngen)-1\n",
    "phi_X = 2*pi*random.uniform(size=ngen)\n",
    "# Dont give a CL but assume it's 95%\n",
    "print('DALI North-facing 30 days 50 degrees',costh2_excl(costh2ZW,55,30,costh_X,phi_X,ngen,dt=0.1))\n",
    "print('DALI North-facing 30.25 days 30 degrees',costh2_excl(costh2ZW,35,30,costh_X,phi_X,ngen,dt=0.1))\n",
    "print('DALI Zenith-facing 30 days max',costh2_excl(costh2NW,35,30,costh_X,phi_X,ngen,dt=0.1))\n",
    "print('DALI Zenith-facing 30.25 days min',costh2_excl(costh2NW,55,30,costh_X,phi_X,ngen,dt=0.1))\n",
    "print('DALI West-facing 100 days',costh2_excl(costh2ZN,50,30,costh_X,phi_X,ngen,dt=0.05))\n"
   ]
  },
  {
   "cell_type": "code",
   "execution_count": 9,
   "metadata": {},
   "outputs": [
    {
     "name": "stdout",
     "output_type": "stream",
     "text": [
      "TOORAD North-facing 1 days 55 degrees [0.3313959]\n",
      "TOORAD North-facing 1 days 35 degrees [0.24541067]\n",
      "TOORAD North-facing 1.25 days 55 degrees [0.3313959]\n",
      "TOORAD North-facing 1.25 days 35 degrees [0.24541067]\n",
      "TOORAD West-facing 1 days 55 degrees [0.18646586]\n",
      "TOORAD West-facing 1.25 days 35 degrees [0.18646586]\n",
      "TOORAD Zenith-facing 1 days 55 degrees [0.25008893]\n",
      "TOORAD Zenith-facing 1 days 35 degrees [0.32503152]\n",
      "TOORAD Zenith-facing 1.25 days 55 degrees [0.25008893]\n",
      "TOORAD Zenith-facing 1.25 days 35 degrees [0.32503152]\n"
     ]
    }
   ],
   "source": [
    "ngen = 100000\n",
    "costh_X = 2*random.uniform(size=ngen)-1\n",
    "phi_X = 2*pi*random.uniform(size=ngen)\n",
    "# 95% CL already\n",
    "print('TOORAD North-facing 1 days 55 degrees',costh2_excl(costh2N,55,1,costh_X,phi_X,ngen,dt=0.05))\n",
    "print('TOORAD North-facing 1 days 35 degrees',costh2_excl(costh2N,35,1.25,costh_X,phi_X,ngen,dt=0.05))\n",
    "print('TOORAD North-facing 1.25 days 55 degrees',costh2_excl(costh2N,55,1,costh_X,phi_X,ngen,dt=0.05))\n",
    "print('TOORAD North-facing 1.25 days 35 degrees',costh2_excl(costh2N,35,1.25,costh_X,phi_X,ngen,dt=0.05))\n",
    "\n",
    "print('TOORAD West-facing 1 days 55 degrees',costh2_excl(costh2W,55,1,costh_X,phi_X,ngen,dt=0.05))\n",
    "print('TOORAD West-facing 1.25 days 35 degrees',costh2_excl(costh2W,55,1,costh_X,phi_X,ngen,dt=0.05))\n",
    "\n",
    "print('TOORAD Zenith-facing 1 days 55 degrees',costh2_excl(costh2Z,55,1,costh_X,phi_X,ngen,dt=0.05))\n",
    "print('TOORAD Zenith-facing 1 days 35 degrees',costh2_excl(costh2Z,35,1.25,costh_X,phi_X,ngen,dt=0.05))\n",
    "print('TOORAD Zenith-facing 1.25 days 55 degrees',costh2_excl(costh2Z,55,1,costh_X,phi_X,ngen,dt=0.05))\n",
    "print('TOORAD Zenith-facing 1.25 days 35 degrees',costh2_excl(costh2Z,35,1.25,costh_X,phi_X,ngen,dt=0.05))\n"
   ]
  },
  {
   "cell_type": "code",
   "execution_count": 10,
   "metadata": {},
   "outputs": [
    {
     "name": "stdout",
     "output_type": "stream",
     "text": [
      "Abu Dhabi Zenith-facing [0.65418699]\n",
      "Abu Dhabi Zenith-facing [0.6514543]\n",
      "Abu Dhabi Zenith-facing [0.65107765]\n",
      "Abu Dhabi Zenith-facing [0.65230787]\n",
      "Abu Dhabi Zenith-facing [0.65454587]\n"
     ]
    }
   ],
   "source": [
    "# Dont know a CL but assume it's 95%\n",
    "print('Abu Dhabi Zenith-facing',costh2_excl(costh2NW,24.45,1,costh_X,phi_X,ngen,dt=0.05))\n",
    "print('Abu Dhabi Zenith-facing',costh2_excl(costh2NW,24.45,1.25,costh_X,phi_X,ngen,dt=0.05))\n",
    "print('Abu Dhabi Zenith-facing',costh2_excl(costh2NW,24.45,1.5,costh_X,phi_X,ngen,dt=0.05))\n",
    "print('Abu Dhabi Zenith-facing',costh2_excl(costh2NW,24.45,1.75,costh_X,phi_X,ngen,dt=0.05))\n",
    "print('Abu Dhabi Zenith-facing',costh2_excl(costh2NW,24.45,2,costh_X,phi_X,ngen,dt=0.05))\n"
   ]
  },
  {
   "cell_type": "code",
   "execution_count": 11,
   "metadata": {},
   "outputs": [
    {
     "name": "stdout",
     "output_type": "stream",
     "text": [
      "Tokyo1 [0.62274502]\n"
     ]
    }
   ],
   "source": [
    "print('Tokyo1',costh2_excl(costh2ZN,35.68,29/2,costh_X,phi_X,ngen,dt=0.05))"
   ]
  },
  {
   "cell_type": "code",
   "execution_count": 12,
   "metadata": {},
   "outputs": [
    {
     "name": "stdout",
     "output_type": "stream",
     "text": [
      "Tokyo2 West-pointing [0.1457331]\n",
      "Tokyo2 West-pointing [0.14569061]\n",
      "Tokyo2 West-pointing [0.1457309]\n",
      "Tokyo2 West-pointing [0.14569697]\n",
      "Tokyo2 West-pointing [0.14572732]\n",
      "Tokyo2 North-pointing [0.20174328]\n",
      "Tokyo2 North-pointing [0.20162009]\n",
      "Tokyo2 North-pointing [0.20146016]\n",
      "Tokyo2 North-pointing [0.20156907]\n",
      "Tokyo2 North-pointing [0.20174471]\n"
     ]
    }
   ],
   "source": [
    "# This one is 90% CL\n",
    "print('Tokyo2 West-pointing',costh2_excl(costh2W,36.06,7,costh_X,phi_X,ngen,CL=1.28,dt=0.05))\n",
    "print('Tokyo2 West-pointing',costh2_excl(costh2W,36.06,7.25,costh_X,phi_X,ngen,CL=1.28,dt=0.05))\n",
    "print('Tokyo2 West-pointing',costh2_excl(costh2W,36.06,7.5,costh_X,phi_X,ngen,CL=1.28,dt=0.05))\n",
    "print('Tokyo2 West-pointing',costh2_excl(costh2W,36.06,7.75,costh_X,phi_X,ngen,CL=1.28,dt=0.05))\n",
    "print('Tokyo2 West-pointing',costh2_excl(costh2W,36.06,8,costh_X,phi_X,ngen,CL=1.28,dt=0.05))\n",
    "\n",
    "print('Tokyo2 North-pointing',costh2_excl(costh2N,36.06,7,costh_X,phi_X,ngen,CL=1.28,dt=0.05))\n",
    "print('Tokyo2 North-pointing',costh2_excl(costh2N,36.06,7.25,costh_X,phi_X,ngen,CL=1.28,dt=0.05))\n",
    "print('Tokyo2 North-pointing',costh2_excl(costh2N,36.06,7.5,costh_X,phi_X,ngen,CL=1.28,dt=0.05))\n",
    "print('Tokyo2 North-pointing',costh2_excl(costh2N,36.06,7.75,costh_X,phi_X,ngen,CL=1.28,dt=0.05))\n",
    "print('Tokyo2 North-pointing',costh2_excl(costh2N,36.06,8,costh_X,phi_X,ngen,CL=1.28,dt=0.05))"
   ]
  },
  {
   "cell_type": "code",
   "execution_count": 13,
   "metadata": {},
   "outputs": [
    {
     "name": "stdout",
     "output_type": "stream",
     "text": [
      "Tokyo3 Zenith-facing [0.62070666]\n",
      "Tokyo3 West-pointing [0.18557612]\n",
      "Tokyo3 North-pointing [0.15118367]\n"
     ]
    }
   ],
   "source": [
    "print('Tokyo3 Zenith-facing',costh2_excl(costh2ZN,36.13,0.5,costh_X,phi_X,ngen,dt=0.05))\n",
    "print('Tokyo3 West-pointing',costh2_excl(costh2W,36.13,0.5,costh_X,phi_X,ngen,dt=0.05))\n",
    "print('Tokyo3 North-pointing',costh2_excl(costh2N,36.13,0.5,costh_X,phi_X,ngen,dt=0.05))"
   ]
  },
  {
   "cell_type": "code",
   "execution_count": 14,
   "metadata": {},
   "outputs": [
    {
     "name": "stdout",
     "output_type": "stream",
     "text": [
      "SHUKET Zenith-pointing [0.03849402]\n"
     ]
    }
   ],
   "source": [
    "print('SHUKET Zenith-pointing',costh2_excl(costh2Z,48.86,8000*s2day,costh_X,phi_X,ngen,dt=0.05))"
   ]
  },
  {
   "cell_type": "code",
   "execution_count": 15,
   "metadata": {},
   "outputs": [
    {
     "name": "stdout",
     "output_type": "stream",
     "text": [
      "DM Pathfinder Zenith-pointing [0.07582014]\n"
     ]
    }
   ],
   "source": [
    "# 90% CL\n",
    "print('DM Pathfinder Zenith-pointing',costh2_excl(costh2Z, 37.42,5.14/24,costh_X,phi_X,ngen,CL=1.28,dt=0.05))"
   ]
  },
  {
   "cell_type": "code",
   "execution_count": 16,
   "metadata": {},
   "outputs": [
    {
     "name": "stdout",
     "output_type": "stream",
     "text": [
      "Dark E-field West-pointing [0.57540257]\n",
      "Dark E-field West-pointing [0.29307362]\n"
     ]
    }
   ],
   "source": [
    "ngen = 500000\n",
    "costh_X = 2*random.uniform(size=ngen)-1\n",
    "phi_X = 2*pi*random.uniform(size=ngen)\n",
    "# 5 sigma exclusion!?\n",
    "print('Dark E-field West-pointing',costh2_excl(costh2W, 38.54,5.8,costh_X,phi_X,ngen,CL=5,dt=0.05))\n",
    "print('Dark E-field West-pointing',costh2_excl(costh2W, 38.54,3.8/24,costh_X,phi_X,ngen,CL=5,dt=0.05))"
   ]
  },
  {
   "cell_type": "code",
   "execution_count": 17,
   "metadata": {},
   "outputs": [
    {
     "name": "stdout",
     "output_type": "stream",
     "text": [
      "Dark E-field spots [0.57540257]\n"
     ]
    }
   ],
   "source": [
    "# 5 sigma exclusion!?\n",
    "print('Dark E-field spots',costh2_excl(costh2W, 38.54,5.8,costh_X,phi_X,ngen,CL=5,dt=0.05))"
   ]
  },
  {
   "cell_type": "code",
   "execution_count": 18,
   "metadata": {},
   "outputs": [
    {
     "name": "stdout",
     "output_type": "stream",
     "text": [
      "WISPDMX [0.22912392]\n",
      "WISPDMX [0.22813696]\n",
      "WISPDMX [0.22057595]\n",
      "WISPDMX [0.23019671]\n",
      "WISPDMX [0.22917816]\n"
     ]
    }
   ],
   "source": [
    "def costh2_excl_arbaxis(lat,T,costh_X,phi_X,ngen,n,w,z,dt=0.1):\n",
    "    t_vals = arange(0,T,dt)\n",
    "    nt = int(len(t_vals))\n",
    "\n",
    "    c1t = zeros(shape=(ngen,nt))\n",
    "\n",
    "    for i in range(0,nt):\n",
    "        c1t[:,i] = costh_arb(t_vals[i],costh_X,phi_X,lat,n,w,z)\n",
    "    costh2 = trapz(c1t,t_vals)/t_vals[-1]  \n",
    "    excl = ExclusionFactor(costh2)\n",
    "    \n",
    "    return excl\n",
    "\n",
    "ngen = 100000\n",
    "costh_X = 2*random.uniform(size=ngen)-1\n",
    "phi_X = 2*pi*random.uniform(size=ngen)\n",
    "n = 0.92\n",
    "w = 0.38\n",
    "z = 0\n",
    "print('WISPDMX',costh2_excl_arbaxis(46.14,1,costh_X,phi_X,ngen,n,w,z,dt=0.05))\n",
    "print('WISPDMX',costh2_excl_arbaxis(46.14,1.25,costh_X,phi_X,ngen,n,w,z,dt=0.05))\n",
    "print('WISPDMX',costh2_excl_arbaxis(46.14,1.5,costh_X,phi_X,ngen,n,w,z,dt=0.05))\n",
    "print('WISPDMX',costh2_excl_arbaxis(46.14,1.75,costh_X,phi_X,ngen,n,w,z,dt=0.05))\n",
    "print('WISPDMX',costh2_excl_arbaxis(46.14,2,costh_X,phi_X,ngen,n,w,z,dt=0.05))\n"
   ]
  },
  {
   "cell_type": "code",
   "execution_count": 19,
   "metadata": {},
   "outputs": [
    {
     "name": "stdout",
     "output_type": "stream",
     "text": [
      "FUNK [0.56236835]\n",
      "FUNK [0.56128455]\n",
      "FUNK [0.56238997]\n",
      "FUNK [0.56132489]\n",
      "FUNK [0.56240844]\n"
     ]
    }
   ],
   "source": [
    "def costh2_excl_arbface(lat,T,costh_X,phi_X,ngen,n,w,z,dt=0.1):\n",
    "    t_vals = arange(0,T,dt)\n",
    "    nt = int(len(t_vals))\n",
    "\n",
    "    c1t = zeros(shape=(ngen,nt))\n",
    "\n",
    "    for i in range(0,nt):\n",
    "        c1t[:,i] = 1-costh_arb(t_vals[i],costh_X,phi_X,lat,n,w,z)\n",
    "    costh2 = trapz(c1t,t_vals)/t_vals[-1]  \n",
    "    excl = ExclusionFactor(costh2)\n",
    "    \n",
    "    return excl\n",
    "\n",
    "ngen = 100000\n",
    "costh_X = 2*random.uniform(size=ngen)-1\n",
    "phi_X = 2*pi*random.uniform(size=ngen)\n",
    "n = -0.5\n",
    "w = -0.87 \n",
    "z = 0.28\n",
    "print('FUNK',costh2_excl_arbface(49.1,30,costh_X,phi_X,ngen,n,w,z,dt=0.1))\n",
    "print('FUNK',costh2_excl_arbface(49.1,30.25,costh_X,phi_X,ngen,n,w,z,dt=0.1))\n",
    "print('FUNK',costh2_excl_arbface(49.1,30.5,costh_X,phi_X,ngen,n,w,z,dt=0.1))\n",
    "print('FUNK',costh2_excl_arbface(49.1,30.75,costh_X,phi_X,ngen,n,w,z,dt=0.1))\n",
    "print('FUNK',costh2_excl_arbface(49.1,31,costh_X,phi_X,ngen,n,w,z,dt=0.1))\n",
    "\n"
   ]
  },
  {
   "cell_type": "code",
   "execution_count": null,
   "metadata": {},
   "outputs": [],
   "source": []
  },
  {
   "cell_type": "code",
   "execution_count": null,
   "metadata": {},
   "outputs": [],
   "source": []
  }
 ],
 "metadata": {
  "kernelspec": {
   "display_name": "Python 3",
   "language": "python",
   "name": "python3"
  },
  "language_info": {
   "codemirror_mode": {
    "name": "ipython",
    "version": 3
   },
   "file_extension": ".py",
   "mimetype": "text/x-python",
   "name": "python",
   "nbconvert_exporter": "python",
   "pygments_lexer": "ipython3",
   "version": "3.7.6"
  }
 },
 "nbformat": 4,
 "nbformat_minor": 4
}
