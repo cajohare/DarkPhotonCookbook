{
 "cells": [
  {
   "cell_type": "code",
   "execution_count": 42,
   "metadata": {},
   "outputs": [],
   "source": [
    "from numpy import *\n",
    "from PlotFuncs import *\n",
    "import matplotlib.pyplot as plt\n",
    "import matplotlib.cm as cm\n",
    "from numba import jit\n",
    "from numpy import random\n",
    "from scipy.integrate import cumtrapz\n",
    "import cmocean\n",
    "from tqdm import tqdm\n",
    "\n",
    "def costh2N(t,costh_X,phi_X,lat):\n",
    "    # t in days\n",
    "    lat *= pi/180\n",
    "    wt = 2*pi*t\n",
    "    th_X = arccos(costh_X)\n",
    "    return (sin(th_X)*cos(phi_X)*sin(lat)*cos(wt) - sin(th_X)*sin(phi_X)*sin(lat)*sin(wt) + costh_X*cos(lat))**2\n",
    "\n",
    "def costh2W(t,costh_X,phi_X,lat):\n",
    "    # t in days\n",
    "    lat *= pi/180\n",
    "    wt = 2*pi*t\n",
    "    th_X = arccos(costh_X)\n",
    "    return (sin(th_X)*cos(phi_X)*sin(wt) - sin(th_X)*sin(phi_X)*cos(wt))**2\n",
    "\n",
    "def costh2Z(t,costh_X,phi_X,lat):\n",
    "    # t in days\n",
    "    lat *= pi/180\n",
    "    wt = 2*pi*t\n",
    "    th_X = arccos(costh_X)\n",
    "    return (sin(th_X)*cos(phi_X)*cos(lat)*cos(wt) + sin(th_X)*sin(phi_X)*cos(lat)*sin(wt) + costh_X*sin(lat))**2\n",
    "\n",
    "def costh2ZW(t,costh_X,phi_X,lat):\n",
    "    return 1 - costh2N(t,costh_X,phi_X,lat)\n",
    "\n",
    "def costh2ZN(t,costh_X,phi_X,lat):\n",
    "    return 1 - costh2W(t,costh_X,phi_X,lat)\n",
    "\n",
    "def costh2NW(t,costh_X,phi_X,lat):\n",
    "    return 1 - costh2Z(t,costh_X,phi_X,lat)\n",
    "\n",
    "def costh2_95(fcosth2,lat,T,costh_X,phi_X,ngen,dt=0.1):\n",
    "    t_vals = arange(0,T,dt)\n",
    "    nt = int(len(t_vals))\n",
    "\n",
    "    c1t = zeros(shape=(ngen,nt))\n",
    "\n",
    "    for i in range(0,nt):\n",
    "        c1t[:,i] = fcosth2(t_vals[i],costh_X,phi_X,lat)\n",
    "    costh2 = trapz(c1t,t_vals)/t_vals[-1]  \n",
    "    c95 = sort(costh2)[int(0.05*ngen)]\n",
    "    \n",
    "    return c95\n",
    "        \n",
    "ngen = 1000000\n",
    "costh_X = 2*random.uniform(size=ngen)-1\n",
    "phi_X = 2*pi*random.uniform(size=ngen)"
   ]
  },
  {
   "cell_type": "code",
   "execution_count": 45,
   "metadata": {},
   "outputs": [
    {
     "name": "stdout",
     "output_type": "stream",
     "text": [
      "ADMX =  0.002495709605508584\n",
      "HAYSTAC =  0.0025292860601668233\n",
      "CAPP-1,2 =  0.002533704007693696\n",
      "CAPP-3 =  0.007530480802449466\n",
      "CAPP-3 KSVZ =  0.1145330067548158\n"
     ]
    }
   ],
   "source": [
    "s2day = 1/(3600*24)\n",
    "min2day = 1/(60*24)\n",
    "\n",
    "print('ADMX = ',costh2_95(costh2Z,47.66,5*min2day,costh_X,phi_X,ngen,dt=10*s2day))\n",
    "\n",
    "print('HAYSTAC = ',costh2_95(costh2Z,41.32,5*min2day,costh_X,phi_X,ngen,dt=10*s2day))\n",
    "\n",
    "print('CAPP-1,2 = ',costh2_95(costh2Z,36.35,5*min2day,costh_X,phi_X,ngen,dt=10*s2day))\n",
    "\n",
    "print('CAPP-3 = ',costh2_95(costh2Z,36.35,90*s2day,costh_X,phi_X,ngen,dt=10*s2day))\n",
    "\n",
    "print('CAPP-3 KSVZ = ',costh2_95(costh2Z,36.35,15/24,costh_X,phi_X,ngen,dt=0.1/24))\n"
   ]
  },
  {
   "cell_type": "code",
   "execution_count": 46,
   "metadata": {},
   "outputs": [
    {
     "name": "stdout",
     "output_type": "stream",
     "text": [
      "QUAX 0.004560442297221326\n",
      "KLASH 0.002533996904094883\n"
     ]
    }
   ],
   "source": [
    "print('QUAX',costh2_95(costh2Z,45.35,4203*s2day,costh_X,phi_X,ngen,dt=10*s2day))\n",
    "print('KLASH',costh2_95(costh2Z,41.80,5*min2day,costh_X,phi_X,ngen,dt=10*s2day))\n",
    "\n"
   ]
  },
  {
   "cell_type": "code",
   "execution_count": 49,
   "metadata": {},
   "outputs": [
    {
     "name": "stdout",
     "output_type": "stream",
     "text": [
      "ALPHA 1.5 weeks 50 degrees N 0.20731527537228456\n",
      "ALPHA 1.5 weeks 30 degrees N 0.2610548348917663\n",
      "ALPHA 1 weeks 50 degrees N 0.20783886669367146\n",
      "ALPHA 1 weeks 30 degrees N 0.26210584849746815\n",
      "ALPHA 3.5 days 50 degrees N 0.20497838950011232\n",
      "ALPHA 3.5 days 30 degrees N 0.2529253979788201\n"
     ]
    }
   ],
   "source": [
    "print('ALPHA 1.5 weeks 50 degrees N',costh2_95(costh2Z,50,7+3.5,costh_X,phi_X,ngen,dt=0.05))\n",
    "print('ALPHA 1.5 weeks 30 degrees N',costh2_95(costh2Z,30,7+3.5,costh_X,phi_X,ngen,dt=0.05))\n",
    "print('ALPHA 1 weeks 50 degrees N',costh2_95(costh2Z,50,7,costh_X,phi_X,ngen,dt=0.05))\n",
    "print('ALPHA 1 weeks 30 degrees N',costh2_95(costh2Z,30,7,costh_X,phi_X,ngen,dt=0.05))\n",
    "print('ALPHA 3.5 days 50 degrees N',costh2_95(costh2Z,50,3.5,costh_X,phi_X,ngen,dt=0.05))\n",
    "print('ALPHA 3.5 days 30 degrees N',costh2_95(costh2Z,30,3.5,costh_X,phi_X,ngen,dt=0.05))\n",
    "\n",
    "\n",
    "# print('MADMAX 1 week',costh2_95(costh2Z,53.57,4203*s2day,costh_X,phi_X,ngen,dt=10*s2day))\n",
    "\n",
    "# print('KLASH',costh2_95(costh2Z,41.80,5*min2day,costh_X,phi_X,ngen,dt=10*s2day))\n"
   ]
  },
  {
   "cell_type": "code",
   "execution_count": 123,
   "metadata": {},
   "outputs": [
    {
     "name": "stdout",
     "output_type": "stream",
     "text": [
      "MADMAX 0.5 weeks Zenith 0.17556148792173965\n",
      "MADMAX 1 week Zenith 0.17767064261820184\n",
      "MADMAX 1.5 weeks Zenith 0.17732061687349326\n",
      "MADMAX 0.5 weeks North-facing 0.500747906561749\n",
      "MADMAX 1 week North-facing 0.5016793792749215\n",
      "MADMAX 1.5 weeks North-facing 0.5017164367105631\n",
      "MADMAX 0.5 weeks West-facing 0.6223053697915945\n",
      "MADMAX 1 week West-facing 0.6498554879859022\n",
      "MADMAX 1.5 weeks West-facing 0.6450387518984758\n"
     ]
    }
   ],
   "source": [
    "print('MADMAX 0.5 weeks Zenith',costh2_95(costh2Z,53.57,3.5,costh_X,phi_X,ngen,dt=0.05))\n",
    "print('MADMAX 1 week Zenith',costh2_95(costh2Z,53.57,7,costh_X,phi_X,ngen,dt=0.05))\n",
    "print('MADMAX 1.5 weeks Zenith',costh2_95(costh2Z,53.57,7+3.5,costh_X,phi_X,ngen,dt=0.05))\n",
    "\n",
    "print('MADMAX 0.5 weeks North-facing',costh2_95(costh2ZN,53.57,3.5,costh_X,phi_X,ngen,dt=0.05))\n",
    "print('MADMAX 1 week North-facing',costh2_95(costh2ZN,53.57,7,costh_X,phi_X,ngen,dt=0.05))\n",
    "print('MADMAX 1.5 weeks North-facing',costh2_95(costh2ZN,53.57,7+3.5,costh_X,phi_X,ngen,dt=0.05))\n",
    "\n",
    "print('MADMAX 0.5 weeks West-facing',costh2_95(costh2ZW,53.57,3.5,costh_X,phi_X,ngen,dt=0.05))\n",
    "print('MADMAX 1 week West-facing',costh2_95(costh2ZW,53.57,7,costh_X,phi_X,ngen,dt=0.05))\n",
    "print('MADMAX 1.5 weeks West-facing',costh2_95(costh2ZW,53.57,7+3.5,costh_X,phi_X,ngen,dt=0.05))"
   ]
  },
  {
   "cell_type": "code",
   "execution_count": 62,
   "metadata": {},
   "outputs": [
    {
     "name": "stdout",
     "output_type": "stream",
     "text": [
      "LAMPOST Zenith-facing 1.5 weeks 55 degrees 0.3775472917310942\n",
      "LAMPOST Zenith-facing 1.5 weeks 35 degrees 0.6542617909708421\n",
      "LAMPOST Zenith-facing 1 weeks 50 degrees 0.37731931649348693\n",
      "LAMPOST Zenith-facing 1 weeks 30 degrees 0.662749438631808\n",
      "LAMPOST Zenith-facing 3.5 days 50 degrees 0.37567259631742883\n",
      "LAMPOST Zenith-facing 3.5 days 30 degrees 0.6283800959025899\n",
      "LAMPOST North-facing 1.5 weeks 50 degrees 0.654418333113631\n",
      "LAMPOST North-facing 1.5 weeks 30 degrees 0.3751329438669423\n",
      "LAMPOST North-facing 1 weeks 50 degrees 0.6627873434475832\n",
      "LAMPOST North-facing 1 weeks 30 degrees 0.3770650703176266\n",
      "LAMPOST North-facing 3.5 days 50 degrees 0.6289365290627683\n",
      "LAMPOST North-facing 3.5 days 30 degrees 0.3728933097206029\n",
      "LAMPOST West-facing 1.5 weeks 0.5016919436008286\n",
      "LAMPOST West-facing 1 weeks 0.5015462549335673\n",
      "LAMPOST West-facing 3.5 days 0.5002867128520126\n"
     ]
    }
   ],
   "source": [
    "ngen = 10000\n",
    "costh_X = 2*random.uniform(size=ngen)-1\n",
    "phi_X = 2*pi*random.uniform(size=ngen)\n",
    "\n",
    "print('LAMPOST Zenith-facing 1.5 weeks 55 degrees',costh2_95(costh2NW,55,7+3.5,costh_X,phi_X,ngen,dt=0.05))\n",
    "print('LAMPOST Zenith-facing 1.5 weeks 35 degrees',costh2_95(costh2NW,35,7+3.5,costh_X,phi_X,ngen,dt=0.05))\n",
    "print('LAMPOST Zenith-facing 1 weeks 50 degrees',costh2_95(costh2NW,55,7,costh_X,phi_X,ngen,dt=0.05))\n",
    "print('LAMPOST Zenith-facing 1 weeks 30 degrees',costh2_95(costh2NW,35,7,costh_X,phi_X,ngen,dt=0.05))\n",
    "print('LAMPOST Zenith-facing 3.5 days 50 degrees',costh2_95(costh2NW,55,3.5,costh_X,phi_X,ngen,dt=0.05))\n",
    "print('LAMPOST Zenith-facing 3.5 days 30 degrees',costh2_95(costh2NW,35,3.5,costh_X,phi_X,ngen,dt=0.05))\n",
    "\n",
    "print('LAMPOST North-facing 1.5 weeks 50 degrees',costh2_95(costh2ZW,55,7+3.5,costh_X,phi_X,ngen,dt=0.05))\n",
    "print('LAMPOST North-facing 1.5 weeks 30 degrees',costh2_95(costh2ZW,35,7+3.5,costh_X,phi_X,ngen,dt=0.05))\n",
    "print('LAMPOST North-facing 1 weeks 50 degrees',costh2_95(costh2ZW,55,7,costh_X,phi_X,ngen,dt=0.05))\n",
    "print('LAMPOST North-facing 1 weeks 30 degrees',costh2_95(costh2ZW,35,7,costh_X,phi_X,ngen,dt=0.05))\n",
    "print('LAMPOST North-facing 3.5 days 50 degrees',costh2_95(costh2ZW,55,3.5,costh_X,phi_X,ngen,dt=0.05))\n",
    "print('LAMPOST North-facing 3.5 days 30 degrees',costh2_95(costh2ZW,35,3.5,costh_X,phi_X,ngen,dt=0.05))\n",
    "\n",
    "print('LAMPOST West-facing 1.5 weeks',costh2_95(costh2ZN,50,7+3.5,costh_X,phi_X,ngen,dt=0.05))\n",
    "print('LAMPOST West-facing 1 weeks',costh2_95(costh2ZN,50,7,costh_X,phi_X,ngen,dt=0.05))\n",
    "print('LAMPOST West-facing 3.5 days',costh2_95(costh2ZN,50,3.5,costh_X,phi_X,ngen,dt=0.05))\n"
   ]
  },
  {
   "cell_type": "code",
   "execution_count": 73,
   "metadata": {},
   "outputs": [
    {
     "name": "stdout",
     "output_type": "stream",
     "text": [
      "BRASS North-pointing 100 days 50 degrees 0.3295662193146316\n",
      "BRASS North-pointing 100 days 30 degrees 0.1657519176794814\n",
      "BRASS West-pointing 100 days 0.04704594163441335\n",
      "BRASS North-facing 100 days 50 degrees 0.664404635548224\n",
      "BRASS North-facing 100 days 30 degrees 0.37646586272881105\n",
      "BRASS West-facing 100 days 0.5012226907199532\n"
     ]
    }
   ],
   "source": [
    "ngen = 10000\n",
    "costh_X = 2*random.uniform(size=ngen)-1\n",
    "phi_X = 2*pi*random.uniform(size=ngen)\n",
    "\n",
    "print('BRASS North-pointing 100 days 50 degrees',costh2_95(costh2N,55,100,costh_X,phi_X,ngen,dt=0.1))\n",
    "print('BRASS North-pointing 100 days 30 degrees',costh2_95(costh2N,35,100,costh_X,phi_X,ngen,dt=0.1))\n",
    "\n",
    "print('BRASS West-pointing 100 days',costh2_95(costh2W,50,100,costh_X,phi_X,ngen,dt=0.05))\n",
    "\n",
    "\n",
    "print('BRASS North-facing 100 days 50 degrees',costh2_95(costh2ZW,55,100,costh_X,phi_X,ngen,dt=0.1))\n",
    "print('BRASS North-facing 100 days 30 degrees',costh2_95(costh2ZW,35,100,costh_X,phi_X,ngen,dt=0.1))\n",
    "\n",
    "print('BRASS West-facing 100 days',costh2_95(costh2ZN,50,100,costh_X,phi_X,ngen,dt=0.05))\n"
   ]
  },
  {
   "cell_type": "code",
   "execution_count": 63,
   "metadata": {},
   "outputs": [
    {
     "name": "stdout",
     "output_type": "stream",
     "text": [
      "DALI North-facing 30 days 50 degrees 0.6639089390545145\n",
      "DALI North-facing 30.25 days 30 degrees 0.3816606991162852\n",
      "DALI Zenith-facing 30 days max 0.6639007678307512\n",
      "DALI Zenith-facing 30.25 days min 0.3815398038982834\n",
      "DALI West-facing 100 days 0.5012817948003019\n"
     ]
    }
   ],
   "source": [
    "ngen = 10000\n",
    "costh_X = 2*random.uniform(size=ngen)-1\n",
    "phi_X = 2*pi*random.uniform(size=ngen)\n",
    "\n",
    "print('DALI North-facing 30 days 50 degrees',costh2_95(costh2ZW,55,30,costh_X,phi_X,ngen,dt=0.1))\n",
    "print('DALI North-facing 30.25 days 30 degrees',costh2_95(costh2ZW,35,30,costh_X,phi_X,ngen,dt=0.1))\n",
    "\n",
    "print('DALI Zenith-facing 30 days max',costh2_95(costh2NW,35,30,costh_X,phi_X,ngen,dt=0.1))\n",
    "print('DALI Zenith-facing 30.25 days min',costh2_95(costh2NW,55,30,costh_X,phi_X,ngen,dt=0.1))\n",
    "\n",
    "print('DALI West-facing 100 days',costh2_95(costh2ZN,50,30,costh_X,phi_X,ngen,dt=0.05))\n"
   ]
  },
  {
   "cell_type": "code",
   "execution_count": 71,
   "metadata": {},
   "outputs": [
    {
     "name": "stdout",
     "output_type": "stream",
     "text": [
      "TOORAD North-facing 1 days 55 degrees 0.6490112885387336\n",
      "TOORAD North-facing 1 days 35 degrees 0.3696592501258132\n",
      "TOORAD North-facing 1.25 days 55 degrees 0.6490112885387336\n",
      "TOORAD North-facing 1.25 days 35 degrees 0.3696592501258132\n",
      "TOORAD West-facing 1 days 55 degrees 0.49028831978959186\n",
      "TOORAD West-facing 1.25 days 35 degrees 0.49028831978959186\n",
      "TOORAD Zenith-facing 1 days 55 degrees 0.37712680264559795\n",
      "TOORAD Zenith-facing 1 days 35 degrees 0.5846876917436936\n",
      "TOORAD Zenith-facing 1.25 days 55 degrees 0.37712680264559795\n",
      "TOORAD Zenith-facing 1.25 days 35 degrees 0.5846876917436936\n"
     ]
    }
   ],
   "source": [
    "ngen = 100000\n",
    "costh_X = 2*random.uniform(size=ngen)-1\n",
    "phi_X = 2*pi*random.uniform(size=ngen)\n",
    "\n",
    "print('TOORAD North-facing 1 days 55 degrees',costh2_95(costh2ZW,55,1,costh_X,phi_X,ngen,dt=0.05))\n",
    "print('TOORAD North-facing 1 days 35 degrees',costh2_95(costh2ZW,35,1.25,costh_X,phi_X,ngen,dt=0.05))\n",
    "print('TOORAD North-facing 1.25 days 55 degrees',costh2_95(costh2ZW,55,1,costh_X,phi_X,ngen,dt=0.05))\n",
    "print('TOORAD North-facing 1.25 days 35 degrees',costh2_95(costh2ZW,35,1.25,costh_X,phi_X,ngen,dt=0.05))\n",
    "\n",
    "print('TOORAD West-facing 1 days 55 degrees',costh2_95(costh2ZN,55,1,costh_X,phi_X,ngen,dt=0.05))\n",
    "print('TOORAD West-facing 1.25 days 35 degrees',costh2_95(costh2ZN,55,1,costh_X,phi_X,ngen,dt=0.05))\n",
    "\n",
    "print('TOORAD Zenith-facing 1 days 55 degrees',costh2_95(costh2NW,55,1,costh_X,phi_X,ngen,dt=0.05))\n",
    "print('TOORAD Zenith-facing 1 days 35 degrees',costh2_95(costh2NW,35,1.25,costh_X,phi_X,ngen,dt=0.05))\n",
    "print('TOORAD Zenith-facing 1.25 days 55 degrees',costh2_95(costh2NW,55,1,costh_X,phi_X,ngen,dt=0.05))\n",
    "print('TOORAD Zenith-facing 1.25 days 35 degrees',costh2_95(costh2NW,35,1.25,costh_X,phi_X,ngen,dt=0.05))\n"
   ]
  },
  {
   "cell_type": "code",
   "execution_count": 83,
   "metadata": {},
   "outputs": [
    {
     "name": "stdout",
     "output_type": "stream",
     "text": [
      "Abu Dhabi Zenith-facing 0.5747858391830437\n",
      "Abu Dhabi Zenith-facing 0.5421298556403483\n",
      "Abu Dhabi Zenith-facing 0.5604016424299296\n",
      "Abu Dhabi Zenith-facing 0.56236441710835\n",
      "Abu Dhabi Zenith-facing 0.5822557811927024\n"
     ]
    }
   ],
   "source": [
    "print('Abu Dhabi Zenith-facing',costh2_95(costh2NW,24.45,1,costh_X,phi_X,ngen,dt=0.05))\n",
    "print('Abu Dhabi Zenith-facing',costh2_95(costh2NW,24.45,1.25,costh_X,phi_X,ngen,dt=0.05))\n",
    "print('Abu Dhabi Zenith-facing',costh2_95(costh2NW,24.45,1.5,costh_X,phi_X,ngen,dt=0.05))\n",
    "print('Abu Dhabi Zenith-facing',costh2_95(costh2NW,24.45,1.75,costh_X,phi_X,ngen,dt=0.05))\n",
    "print('Abu Dhabi Zenith-facing',costh2_95(costh2NW,24.45,2,costh_X,phi_X,ngen,dt=0.05))\n"
   ]
  },
  {
   "cell_type": "code",
   "execution_count": 85,
   "metadata": {},
   "outputs": [
    {
     "name": "stdout",
     "output_type": "stream",
     "text": [
      "Tokyo West-facing 0.501592506027035\n"
     ]
    }
   ],
   "source": [
    "print('Tokyo West-facing',costh2_95(costh2ZN,35.68,29/2,costh_X,phi_X,ngen,dt=0.05))"
   ]
  },
  {
   "cell_type": "code",
   "execution_count": 93,
   "metadata": {},
   "outputs": [
    {
     "name": "stdout",
     "output_type": "stream",
     "text": [
      "Tokyo2 West-pointing 0.04875810655563253\n",
      "Tokyo2 West-pointing 0.04879976197015085\n",
      "Tokyo2 West-pointing 0.04875285295281418\n",
      "Tokyo2 West-pointing 0.04879149388140772\n",
      "Tokyo2 West-pointing 0.04875220540770335\n",
      "Tokyo2 North-pointing 0.1746211370348242\n",
      "Tokyo2 North-pointing 0.1747743313925307\n",
      "Tokyo2 North-pointing 0.17417950595235168\n",
      "Tokyo2 North-pointing 0.17466324954829515\n",
      "Tokyo2 North-pointing 0.17458092506852732\n"
     ]
    }
   ],
   "source": [
    "print('Tokyo2 West-pointing',costh2_95(costh2W,36.06,7,costh_X,phi_X,ngen,dt=0.05))\n",
    "print('Tokyo2 West-pointing',costh2_95(costh2W,36.06,7.25,costh_X,phi_X,ngen,dt=0.05))\n",
    "print('Tokyo2 West-pointing',costh2_95(costh2W,36.06,7.5,costh_X,phi_X,ngen,dt=0.05))\n",
    "print('Tokyo2 West-pointing',costh2_95(costh2W,36.06,7.75,costh_X,phi_X,ngen,dt=0.05))\n",
    "print('Tokyo2 West-pointing',costh2_95(costh2W,36.06,8,costh_X,phi_X,ngen,dt=0.05))\n",
    "\n",
    "print('Tokyo2 North-pointing',costh2_95(costh2N,36.06,7,costh_X,phi_X,ngen,dt=0.05))\n",
    "print('Tokyo2 North-pointing',costh2_95(costh2N,36.06,7.25,costh_X,phi_X,ngen,dt=0.05))\n",
    "print('Tokyo2 North-pointing',costh2_95(costh2N,36.06,7.5,costh_X,phi_X,ngen,dt=0.05))\n",
    "print('Tokyo2 North-pointing',costh2_95(costh2N,36.06,7.75,costh_X,phi_X,ngen,dt=0.05))\n",
    "print('Tokyo2 North-pointing',costh2_95(costh2N,36.06,8,costh_X,phi_X,ngen,dt=0.05))"
   ]
  },
  {
   "cell_type": "code",
   "execution_count": 124,
   "metadata": {},
   "outputs": [
    {
     "name": "stdout",
     "output_type": "stream",
     "text": [
      "Tokyo3 Zenith-facing 0.4705122826354944\n",
      "Tokyo3 West-pointing 0.04858597156449869\n",
      "Tokyo3 North-pointing 0.05143958776764433\n"
     ]
    }
   ],
   "source": [
    "print('Tokyo3 Zenith-facing',costh2_95(costh2ZN,36.13,0.5,costh_X,phi_X,ngen,dt=0.05))\n",
    "print('Tokyo3 West-pointing',costh2_95(costh2W,36.13,0.5,costh_X,phi_X,ngen,dt=0.05))\n",
    "print('Tokyo3 North-pointing',costh2_95(costh2N,36.13,0.5,costh_X,phi_X,ngen,dt=0.05))"
   ]
  },
  {
   "cell_type": "code",
   "execution_count": 98,
   "metadata": {},
   "outputs": [
    {
     "name": "stdout",
     "output_type": "stream",
     "text": [
      "SHUKET Zenith-pointing 0.008641651989125664\n"
     ]
    }
   ],
   "source": [
    "print('SHUKET Zenith-pointing',costh2_95(costh2Z,48.86,8000*s2day,costh_X,phi_X,ngen,dt=0.05))\n"
   ]
  },
  {
   "cell_type": "code",
   "execution_count": 100,
   "metadata": {},
   "outputs": [
    {
     "name": "stdout",
     "output_type": "stream",
     "text": [
      "DM Pathfinder Zenith-pointing 0.027259944226113372\n"
     ]
    }
   ],
   "source": [
    "print('DM Pathfinder Zenith-pointing',costh2_95(costh2Z, 37.42,5.14/24,costh_X,phi_X,ngen,dt=0.05))\n"
   ]
  },
  {
   "cell_type": "code",
   "execution_count": 121,
   "metadata": {},
   "outputs": [
    {
     "name": "stdout",
     "output_type": "stream",
     "text": [
      "Dark E-field West-pointing 0.048951738025717124\n",
      "Dark E-field West-pointing 0.026525550268616645\n"
     ]
    }
   ],
   "source": [
    "ngen = 500000\n",
    "costh_X = 2*random.uniform(size=ngen)-1\n",
    "phi_X = 2*pi*random.uniform(size=ngen)\n",
    "\n",
    "print('Dark E-field West-pointing',costh2_95(costh2W, 38.54,5.8,costh_X,phi_X,ngen,dt=0.05))\n",
    "print('Dark E-field West-pointing',costh2_95(costh2W, 38.54,3.8/24,costh_X,phi_X,ngen,dt=0.05))\n"
   ]
  },
  {
   "cell_type": "code",
   "execution_count": 91,
   "metadata": {},
   "outputs": [
    {
     "name": "stdout",
     "output_type": "stream",
     "text": [
      "WISPDMX 0.0817659563977482\n",
      "WISPDMX 0.07943354352785172\n",
      "WISPDMX 0.07949710579784781\n",
      "WISPDMX 0.07967051015852127\n",
      "WISPDMX 0.08227276307781857\n"
     ]
    }
   ],
   "source": [
    "def costh_arb(t,costh_X,phi_X,lat,n,w,z):\n",
    "    # t in days\n",
    "    lat *= pi/180\n",
    "    wt = 2*pi*t\n",
    "    th_X = arccos(costh_X)\n",
    "    N = sin(th_X)*cos(phi_X)*sin(lat)*cos(wt) - sin(th_X)*sin(phi_X)*sin(lat)*sin(wt) + costh_X*cos(lat)\n",
    "    W = sin(th_X)*cos(phi_X)*sin(wt) - sin(th_X)*sin(phi_X)*cos(wt)\n",
    "    Z = sin(th_X)*cos(phi_X)*cos(lat)*cos(wt) + sin(th_X)*sin(phi_X)*cos(lat)*sin(wt) + costh_X*sin(lat)\n",
    "    return (n*N + w*W + z*Z)**2\n",
    "\n",
    "def costh2_95_arb(lat,T,costh_X,phi_X,ngen,n,w,z,dt=0.1):\n",
    "    t_vals = arange(0,T,dt)\n",
    "    nt = int(len(t_vals))\n",
    "\n",
    "    c1t = zeros(shape=(ngen,nt))\n",
    "\n",
    "    for i in range(0,nt):\n",
    "        c1t[:,i] = costh_arb(t_vals[i],costh_X,phi_X,lat,n,w,z)\n",
    "    costh2 = trapz(c1t,t_vals)/t_vals[-1]  \n",
    "    c95 = sort(costh2)[int(0.05*ngen)]\n",
    "    \n",
    "    return c95\n",
    "\n",
    "ngen = 100000\n",
    "costh_X = 2*random.uniform(size=ngen)-1\n",
    "phi_X = 2*pi*random.uniform(size=ngen)\n",
    "n = 0.92\n",
    "w = 0.38\n",
    "z = 0\n",
    "print('WISPDMX',costh2_95_arb(46.14,1,costh_X,phi_X,ngen,n,w,z,dt=0.05))\n",
    "print('WISPDMX',costh2_95_arb(46.14,1.25,costh_X,phi_X,ngen,n,w,z,dt=0.05))\n",
    "print('WISPDMX',costh2_95_arb(46.14,1.5,costh_X,phi_X,ngen,n,w,z,dt=0.05))\n",
    "print('WISPDMX',costh2_95_arb(46.14,1.75,costh_X,phi_X,ngen,n,w,z,dt=0.05))\n",
    "print('WISPDMX',costh2_95_arb(46.14,2,costh_X,phi_X,ngen,n,w,z,dt=0.05))\n"
   ]
  },
  {
   "cell_type": "code",
   "execution_count": 120,
   "metadata": {},
   "outputs": [
    {
     "name": "stdout",
     "output_type": "stream",
     "text": [
      "FUNK 0.26759837374286355\n",
      "FUNK 0.26647326458724824\n",
      "FUNK 0.26763258100805987\n",
      "FUNK 0.2664725217074353\n",
      "FUNK 0.2676384972789654\n"
     ]
    }
   ],
   "source": [
    "def costh2_95_arbface(lat,T,costh_X,phi_X,ngen,n,w,z,dt=0.1):\n",
    "    t_vals = arange(0,T,dt)\n",
    "    nt = int(len(t_vals))\n",
    "\n",
    "    c1t = zeros(shape=(ngen,nt))\n",
    "\n",
    "    for i in range(0,nt):\n",
    "        c1t[:,i] = 1-costh_arb(t_vals[i],costh_X,phi_X,lat,n,w,z)\n",
    "    costh2 = trapz(c1t,t_vals)/t_vals[-1]  \n",
    "    c95 = sort(costh2)[int(0.05*ngen)]\n",
    "    \n",
    "    return c95\n",
    "\n",
    "ngen = 100000\n",
    "costh_X = 2*random.uniform(size=ngen)-1\n",
    "phi_X = 2*pi*random.uniform(size=ngen)\n",
    "n = -0.5\n",
    "w = -0.87 \n",
    "z = 0.28\n",
    "print('FUNK',costh2_95_arbface(49.1,30,costh_X,phi_X,ngen,n,w,z,dt=0.1))\n",
    "print('FUNK',costh2_95_arbface(49.1,30.25,costh_X,phi_X,ngen,n,w,z,dt=0.1))\n",
    "print('FUNK',costh2_95_arbface(49.1,30.5,costh_X,phi_X,ngen,n,w,z,dt=0.1))\n",
    "print('FUNK',costh2_95_arbface(49.1,30.75,costh_X,phi_X,ngen,n,w,z,dt=0.1))\n",
    "print('FUNK',costh2_95_arbface(49.1,31,costh_X,phi_X,ngen,n,w,z,dt=0.1))\n",
    "\n"
   ]
  },
  {
   "cell_type": "code",
   "execution_count": null,
   "metadata": {},
   "outputs": [],
   "source": []
  }
 ],
 "metadata": {
  "kernelspec": {
   "display_name": "Python 3",
   "language": "python",
   "name": "python3"
  },
  "language_info": {
   "codemirror_mode": {
    "name": "ipython",
    "version": 3
   },
   "file_extension": ".py",
   "mimetype": "text/x-python",
   "name": "python",
   "nbconvert_exporter": "python",
   "pygments_lexer": "ipython3",
   "version": "3.7.6"
  }
 },
 "nbformat": 4,
 "nbformat_minor": 4
}
