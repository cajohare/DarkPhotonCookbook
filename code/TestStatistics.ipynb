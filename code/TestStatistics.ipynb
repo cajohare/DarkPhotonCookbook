{
 "cells": [
  {
   "cell_type": "code",
   "execution_count": 32,
   "metadata": {},
   "outputs": [],
   "source": [
    "from numpy import *\n",
    "from PlotFuncs import *\n",
    "import matplotlib.pyplot as plt\n",
    "import matplotlib.cm as cm\n",
    "from numba import jit\n",
    "from numpy import random\n",
    "from scipy.integrate import cumtrapz\n",
    "import cmocean\n",
    "from tqdm import tqdm\n",
    "\n",
    "def costh2N(t,costh_X,phi_X,lat):\n",
    "    # t in days\n",
    "    lat *= pi/180\n",
    "    wt = 2*pi*t\n",
    "    th_X = arccos(costh_X)\n",
    "    return (sin(th_X)*cos(phi_X)*sin(lat)*cos(wt) - sin(th_X)*sin(phi_X)*sin(lat)*sin(wt) + costh_X*cos(lat))**2\n",
    "\n",
    "def costh2W(t,costh_X,phi_X,lat):\n",
    "    # t in days\n",
    "    lat *= pi/180\n",
    "    wt = 2*pi*t\n",
    "    th_X = arccos(costh_X)\n",
    "    return (sin(th_X)*cos(phi_X)*sin(wt) - sin(th_X)*sin(phi_X)*cos(wt))**2\n",
    "\n",
    "def costh2Z(t,costh_X,phi_X,lat):\n",
    "    # t in days\n",
    "    lat *= pi/180\n",
    "    wt = 2*pi*t\n",
    "    th_X = arccos(costh_X)\n",
    "    return (sin(th_X)*cos(phi_X)*cos(lat)*cos(wt) + sin(th_X)*sin(phi_X)*cos(lat)*sin(wt) + costh_X*sin(lat))**2\n",
    "\n",
    "def costh2ZW(t,costh_X,phi_X,lat):\n",
    "    return 1 - costh2N(t,costh_X,phi_X,lat)\n",
    "\n",
    "def costh2ZN(t,costh_X,phi_X,lat):\n",
    "    return 1 - costh2W(t,costh_X,phi_X,lat)\n",
    "\n",
    "def costh2NW(t,costh_X,phi_X,lat):\n",
    "    return 1 - costh2Z(t,costh_X,phi_X,lat)\n",
    "\n",
    "\n",
    "def costh_T_samples(fcosth2,lat,T,nt=1000,ngen=1000):\n",
    "    costh_X = 2*random.uniform(size=ngen)-1\n",
    "    phi_X = 2*pi*random.uniform(size=ngen)\n",
    "    t_vals = linspace(0,T,nt)\n",
    "    c1t = zeros(shape=(ngen,nt))\n",
    "    for i in range(0,nt):\n",
    "        c1t[:,i] = fcosth2(t_vals[i],costh_X,phi_X,lat)\n",
    "\n",
    "    c_av = trapz(c1t,t_vals)/T\n",
    "    return c_av\n",
    "\n",
    "ngen = 1000\n",
    "\n",
    "P_true = 5.0\n",
    "S_true = P_true*(1/3)\n",
    "sigma_N = 1.0\n",
    "N_true = 1.0\n",
    "costh_samples = costh_T_samples(costh2Z,55.0,1.0,ngen=ngen)\n",
    "\n",
    "N_samples = random.normal(loc=N_true,scale=sigma_N,size=ngen)\n",
    "\n",
    "P_obs = P_true*costh_samples + N_samples"
   ]
  },
  {
   "cell_type": "code",
   "execution_count": 24,
   "metadata": {},
   "outputs": [
    {
     "data": {
      "text/plain": [
       "(array([  2.,  13.,  38., 119., 192., 238., 203., 120.,  63.,  12.]),\n",
       " array([-1.88099074, -1.1923284 , -0.50366607,  0.18499627,  0.8736586 ,\n",
       "         1.56232094,  2.25098328,  2.93964561,  3.62830795,  4.31697028,\n",
       "         5.00563262]),\n",
       " <a list of 10 Patch objects>)"
      ]
     },
     "execution_count": 24,
     "metadata": {},
     "output_type": "execute_result"
    },
    {
     "data": {
      "image/png": "[encoded data removed]",
      "text/plain": [
       "<Figure size 432x288 with 1 Axes>"
      ]
     },
     "metadata": {
      "needs_background": "light"
     },
     "output_type": "display_data"
    }
   ],
   "source": [
    "plt.hist(P_obs)"
   ]
  },
  {
   "cell_type": "code",
   "execution_count": 115,
   "metadata": {},
   "outputs": [
    {
     "data": {
      "text/plain": [
       "0.00872"
      ]
     },
     "execution_count": 115,
     "metadata": {},
     "output_type": "execute_result"
    },
    {
     "data": {
      "image/png": "[encoded data removed]",
      "text/plain": [
       "<Figure size 432x288 with 1 Axes>"
      ]
     },
     "metadata": {
      "needs_background": "light"
     },
     "output_type": "display_data"
    }
   ],
   "source": [
    "h,ce = histogram(costh_T_samples(costh2Z,55.0,1.0,ngen=100000),100)\n",
    "cc = (ce[1:]+ce[0:-1])/2\n",
    "P_costh = h/sum(h)\n",
    "plt.plot(cc,P_costh)\n",
    "\n",
    "costh_obs = 0.33\n",
    "P_costh[argmin(abs(cc-costh_obs))]"
   ]
  },
  {
   "cell_type": "code",
   "execution_count": 120,
   "metadata": {},
   "outputs": [
    {
     "name": "stderr",
     "output_type": "stream",
     "text": [
      "100%|██████████| 500/500 [00:23<00:00, 21.66it/s]\n",
      "100%|██████████| 500/500 [00:23<00:00, 21.44it/s]\n"
     ]
    }
   ],
   "source": [
    "from scipy.optimize import minimize\n",
    "\n",
    "n_expts = 500\n",
    "TS0 = zeros(shape=n_expts)\n",
    "TS1 = zeros(shape=n_expts)\n",
    "\n",
    "bnds1 = ((0, None), (0,None),(None, None))\n",
    "bnds0 = ((0, None),)\n",
    "\n",
    "\n",
    "P_true = 20.0\n",
    "S_true = P_true*(1/3)\n",
    "sigma_N = 1.0\n",
    "N_true = 1.0\n",
    "costh_samples = costh_T_samples(costh2Z,55.0,1.0,ngen=n_expts)\n",
    "N_samples = random.normal(loc=N_true,scale=sigma_N,size=n_expts)\n",
    "P_obs1 = P_true*costh_samples + N_samples\n",
    "P_obs0 = N_samples\n",
    "\n",
    "for expt in tqdm(range(0,n_expts)):\n",
    "    logL1 = lambda x : 0.5*(P_obs1[expt]-x[0]*x[1]-x[2])**2/sigma_N**2 + 0.5*(N_true-x[2])**2/sigma_N**2 - log(P_costh[argmin(abs(cc-x[1]))])\n",
    "    logL0 = lambda x : 0.5*(P_obs1[expt]-x[0])**2/sigma_N**2 + 0.5*(N_true-x[0])**2/sigma_N**2\n",
    "\n",
    "    x1 = array([P_true,costh_samples[expt],N_samples[expt]])\n",
    "    x0 = array([P_obs])\n",
    "    res1 = minimize(logL1,x1,bounds=bnds1)\n",
    "    res0 = minimize(logL0,x0)\n",
    "    TS1[expt] = -2*(logL1(res1.x)-logL0(res0.x))\n",
    "    \n",
    "for expt in tqdm(range(0,n_expts)):\n",
    "    logL1 = lambda x : 0.5*(P_obs0[expt]-x[0]*x[1]-x[2])**2/sigma_N**2 + 0.5*(N_true-x[2])**2/sigma_N**2 - log(P_costh[argmin(abs(cc-x[1]))])\n",
    "    logL0 = lambda x : 0.5*(P_obs0[expt]-x[0])**2/sigma_N**2 + 0.5*(N_true-x[0])**2/sigma_N**2\n",
    "\n",
    "    x1 = array([P_true,costh_samples[expt],N_samples[expt]])\n",
    "    x0 = array([P_obs])\n",
    "    res1 = minimize(logL1,x1,bounds=bnds1)\n",
    "    res0 = minimize(logL0,x0)\n",
    "    TS0[expt] = -2*(logL1(res1.x)-logL0(res0.x))"
   ]
  },
  {
   "cell_type": "code",
   "execution_count": 123,
   "metadata": {},
   "outputs": [
    {
     "data": {
      "text/plain": [
       "(array([216., 101.,  51.,  29.,  31.,  26.,  19.,  20.,   4.,   3.]),\n",
       " array([ -4.11524582,   6.44952304,  17.01429189,  27.57906075,\n",
       "         38.1438296 ,  48.70859846,  59.27336732,  69.83813617,\n",
       "         80.40290503,  90.96767389, 101.53244274]),\n",
       " <a list of 10 Patch objects>)"
      ]
     },
     "execution_count": 123,
     "metadata": {},
     "output_type": "execute_result"
    },
    {
     "data": {
      "image/png": "[encoded data removed]",
      "text/plain": [
       "<Figure size 432x288 with 1 Axes>"
      ]
     },
     "metadata": {
      "needs_background": "light"
     },
     "output_type": "display_data"
    }
   ],
   "source": [
    "plt.hist(TS0)\n",
    "plt.hist(TS1)"
   ]
  },
  {
   "cell_type": "code",
   "execution_count": 126,
   "metadata": {},
   "outputs": [
    {
     "data": {
      "text/plain": [
       "(array([15., 80., 98., 89., 64., 38., 39., 40., 30.,  7.]),\n",
       " array([ 1.95520692,  3.35692071,  4.7586345 ,  6.16034829,  7.56206208,\n",
       "         8.96377586, 10.36548965, 11.76720344, 13.16891723, 14.57063102,\n",
       "        15.97234481]),\n",
       " <a list of 10 Patch objects>)"
      ]
     },
     "execution_count": 126,
     "metadata": {},
     "output_type": "execute_result"
    },
    {
     "data": {
      "image/png": "[encoded data removed]",
      "text/plain": [
       "<Figure size 432x288 with 1 Axes>"
      ]
     },
     "metadata": {
      "needs_background": "light"
     },
     "output_type": "display_data"
    }
   ],
   "source": [
    "plt.hist(P_obs0)\n",
    "plt.hist(P_obs1)"
   ]
  },
  {
   "cell_type": "code",
   "execution_count": 156,
   "metadata": {},
   "outputs": [
    {
     "data": {
      "text/plain": [
       "0.9543"
      ]
     },
     "execution_count": 156,
     "metadata": {},
     "output_type": "execute_result"
    },
    {
     "data": {
      "image/png": "[encoded data removed]",
      "text/plain": [
       "<Figure size 432x288 with 1 Axes>"
      ]
     },
     "metadata": {
      "needs_background": "light"
     },
     "output_type": "display_data"
    }
   ],
   "source": [
    "n_expts = 10000\n",
    "P_true = 5.5\n",
    "sigma_N = 1.0\n",
    "N_true = 0.0\n",
    "costh_samples = costh_T_samples(costh2Z,45.0,1.0,ngen=n_expts)\n",
    "N_samples = random.normal(loc=N_true,scale=sigma_N,size=n_expts)\n",
    "P_obs1 = P_true*costh_samples + N_samples\n",
    "P_obs0 = N_samples\n",
    "plt.hist(P_obs0,color='k')\n",
    "plt.hist(P_obs1)\n",
    "sum(P_obs1>median(P_obs0))/n_expts"
   ]
  },
  {
   "cell_type": "code",
   "execution_count": 157,
   "metadata": {},
   "outputs": [
    {
     "data": {
      "text/plain": [
       "1.3785406942228924"
      ]
     },
     "execution_count": 157,
     "metadata": {},
     "output_type": "execute_result"
    }
   ],
   "source": [
    "costh_95 = sort(costh_samples)[int(0.05*n_expts)]\n",
    "costh_95*P_true"
   ]
  },
  {
   "cell_type": "code",
   "execution_count": 71,
   "metadata": {},
   "outputs": [
    {
     "data": {
      "text/plain": [
       "array([2.23931446, 0.99999762])"
      ]
     },
     "execution_count": 71,
     "metadata": {},
     "output_type": "execute_result"
    }
   ],
   "source": [
    "res1.x"
   ]
  },
  {
   "cell_type": "code",
   "execution_count": 41,
   "metadata": {},
   "outputs": [
    {
     "data": {
      "text/plain": [
       "1.6666666666666665"
      ]
     },
     "execution_count": 41,
     "metadata": {},
     "output_type": "execute_result"
    }
   ],
   "source": [
    "S_true"
   ]
  },
  {
   "cell_type": "code",
   "execution_count": 42,
   "metadata": {},
   "outputs": [
    {
     "data": {
      "text/plain": [
       "1.0"
      ]
     },
     "execution_count": 42,
     "metadata": {},
     "output_type": "execute_result"
    }
   ],
   "source": [
    "N_true"
   ]
  },
  {
   "cell_type": "code",
   "execution_count": 52,
   "metadata": {},
   "outputs": [
    {
     "data": {
      "text/plain": [
       "1.1117179183169736"
      ]
     },
     "execution_count": 52,
     "metadata": {},
     "output_type": "execute_result"
    }
   ],
   "source": [
    "logL1(array([S_true,N_true]))"
   ]
  },
  {
   "cell_type": "code",
   "execution_count": 51,
   "metadata": {},
   "outputs": [
    {
     "data": {
      "text/plain": [
       "9.367424821130336e-13"
      ]
     },
     "execution_count": 51,
     "metadata": {},
     "output_type": "execute_result"
    }
   ],
   "source": [
    "logL1(res1.x)"
   ]
  },
  {
   "cell_type": "code",
   "execution_count": 53,
   "metadata": {},
   "outputs": [
    {
     "data": {
      "text/plain": [
       "1.1406983705386509e-06"
      ]
     },
     "execution_count": 53,
     "metadata": {},
     "output_type": "execute_result"
    }
   ],
   "source": [
    "P_obs[-1]-res1.x[0]-res1.x[1]"
   ]
  },
  {
   "cell_type": "code",
   "execution_count": 54,
   "metadata": {},
   "outputs": [
    {
     "data": {
      "text/plain": [
       "0.0"
      ]
     },
     "execution_count": 54,
     "metadata": {},
     "output_type": "execute_result"
    }
   ],
   "source": [
    "P_obs[-1]-P_true*costh_samples[-1]-N_samples[-1]"
   ]
  },
  {
   "cell_type": "code",
   "execution_count": 56,
   "metadata": {},
   "outputs": [
    {
     "data": {
      "text/plain": [
       "array([0.57171238])"
      ]
     },
     "execution_count": 56,
     "metadata": {},
     "output_type": "execute_result"
    }
   ],
   "source": [
    "res0.x"
   ]
  },
  {
   "cell_type": "code",
   "execution_count": 162,
   "metadata": {},
   "outputs": [
    {
     "data": {
      "text/plain": [
       "0.9238795325112867"
      ]
     },
     "execution_count": 162,
     "metadata": {},
     "output_type": "execute_result"
    }
   ],
   "source": [
    "ang = 45/2*(pi/180)\n",
    "\n",
    "cos(ang)"
   ]
  },
  {
   "cell_type": "code",
   "execution_count": 161,
   "metadata": {},
   "outputs": [
    {
     "data": {
      "text/plain": [
       "1.0"
      ]
     },
     "execution_count": 161,
     "metadata": {},
     "output_type": "execute_result"
    }
   ],
   "source": [
    "sin(ang)**2 + cos(ang)**2"
   ]
  },
  {
   "cell_type": "code",
   "execution_count": 163,
   "metadata": {},
   "outputs": [
    {
     "data": {
      "text/plain": [
       "0.3826834323650898"
      ]
     },
     "execution_count": 163,
     "metadata": {},
     "output_type": "execute_result"
    }
   ],
   "source": [
    "sin(ang)"
   ]
  },
  {
   "cell_type": "code",
   "execution_count": null,
   "metadata": {},
   "outputs": [],
   "source": []
  }
 ],
 "metadata": {
  "kernelspec": {
   "display_name": "Python 3",
   "language": "python",
   "name": "python3"
  },
  "language_info": {
   "codemirror_mode": {
    "name": "ipython",
    "version": 3
   },
   "file_extension": ".py",
   "mimetype": "text/x-python",
   "name": "python",
   "nbconvert_exporter": "python",
   "pygments_lexer": "ipython3",
   "version": "3.7.6"
  }
 },
 "nbformat": 4,
 "nbformat_minor": 4
}
