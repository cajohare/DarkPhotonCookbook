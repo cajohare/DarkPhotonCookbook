{
 "cells": [
  {
   "cell_type": "code",
   "execution_count": 515,
   "metadata": {},
   "outputs": [],
   "source": [
    "from numpy import *\n",
    "from PlotFuncs import *\n",
    "from LabFuncs import *\n",
    "import matplotlib.pyplot as plt\n",
    "import matplotlib.cm as cm\n",
    "from numba import jit\n",
    "from numpy import random\n",
    "from scipy.integrate import cumtrapz\n",
    "import cmocean\n",
    "from tqdm import tqdm\n",
    "\n",
    "def costh_T_samples(fcosth2,lat,T,nt=1000,ngen=1000):\n",
    "    costh_X = 2*random.uniform(size=ngen)-1\n",
    "    phi_X = 2*pi*random.uniform(size=ngen)\n",
    "    t_vals = linspace(0,T,nt)\n",
    "    c1t = zeros(shape=(ngen,nt))\n",
    "    for i in range(0,nt):\n",
    "        c1t[:,i] = fcosth2(t_vals[i],costh_X,phi_X,lat)\n",
    "\n",
    "    c_av = trapz(c1t,t_vals)/T\n",
    "    return c_av\n",
    "\n",
    "ngen = 100000\n",
    "\n",
    "\n",
    "\n",
    "\n",
    "costh_samples = costh_T_samples(costh2Z,55.0,1.0,ngen=ngen)\n",
    "h,ce = histogram(costh_samples,100)\n",
    "cc = (ce[1:]+ce[0:-1])/2\n",
    "P_costh = h/sum(h)\n"
   ]
  },
  {
   "cell_type": "code",
   "execution_count": 559,
   "metadata": {},
   "outputs": [
    {
     "name": "stdout",
     "output_type": "stream",
     "text": [
      "-2.3066935210385906 -2.3066935210385897 -1.7763568394002505e-15\n"
     ]
    }
   ],
   "source": [
    "sigma_N = 1.0\n",
    "N_true = 0.0\n",
    "P_X = 7.0\n",
    "\n",
    "logL1 = lambda x : 0.5*((N_true - x[0] - P_X*x[1])**2/sigma_N**2) - log(P_costh[argmin(abs(cc-x[1]))]) + 0.5*((N_true - x[0])**2/sigma_N**2)\n",
    "res1 = minimize(logL1,array([0.0,mean(costh_samples)]),bounds=((None,None),(0, 1)))\n",
    "L1 = -logL1(res1.x)\n",
    "\n",
    "logL2 = lambda x : 0.5*((N_true - x[0] - x[2]*x[1])**2/sigma_N**2) - log(P_costh[argmin(abs(cc-x[1]))]) + 0.5*((N_true - x[0])**2/sigma_N**2)\n",
    "res2 = minimize(logL2,array([0.0,mean(costh_samples),P_X]),bounds=((None,None),(0, 1),(None,None)))\n",
    "L2 = -logL2(res2.x)\n",
    "\n",
    "q = 2*(L1-L2)\n",
    "q\n",
    "\n",
    "print(L1,L2,q)"
   ]
  },
  {
   "cell_type": "code",
   "execution_count": 553,
   "metadata": {},
   "outputs": [
    {
     "name": "stdout",
     "output_type": "stream",
     "text": [
      "-1.3224999999999998 -1.2068804797942253e-13 -2.644999999999758\n"
     ]
    }
   ],
   "source": [
    "sigma_N = 1.0\n",
    "N_true = 0.0\n",
    "P_X = 2.3\n",
    "\n",
    "logL1 = lambda x : 0.5*((N_true - x[0] - P_X)**2/sigma_N**2) + 0.5*((N_true - x[0])**2/sigma_N**2)\n",
    "res1 = minimize(logL1,array([0.0]))\n",
    "L1 = -logL1(res1.x)\n",
    "\n",
    "logL2 = lambda x : 0.5*((N_true - x[0] - x[1])**2/sigma_N**2) + 0.5*((N_true - x[0])**2/sigma_N**2)\n",
    "res2 = minimize(logL2,array([0.0,P_X]),bounds=((None,None),(None,None)))\n",
    "L2 = -logL2(res2.x)\n",
    "\n",
    "q = 2*(L1-L2)\n",
    "q\n",
    "\n",
    "print(L1,L2,q)"
   ]
  },
  {
   "cell_type": "code",
   "execution_count": 233,
   "metadata": {},
   "outputs": [
    {
     "data": {
      "text/plain": [
       "<matplotlib.collections.QuadMesh at 0x7fac61606890>"
      ]
     },
     "execution_count": 233,
     "metadata": {},
     "output_type": "execute_result"
    },
    {
     "data": {
      "image/png": "[encoded data removed]",
      "text/plain": [
       "<Figure size 432x288 with 1 Axes>"
      ]
     },
     "metadata": {
      "needs_background": "light"
     },
     "output_type": "display_data"
    }
   ],
   "source": [
    "plt.pcolormesh(cc,Nvals,L.T-amax(L.T),vmin=-1,)"
   ]
  },
  {
   "cell_type": "code",
   "execution_count": 227,
   "metadata": {},
   "outputs": [
    {
     "data": {
      "text/plain": [
       "array([-0.17539373])"
      ]
     },
     "execution_count": 227,
     "metadata": {},
     "output_type": "execute_result"
    }
   ],
   "source": [
    "N_samples"
   ]
  },
  {
   "cell_type": "code",
   "execution_count": 118,
   "metadata": {},
   "outputs": [
    {
     "name": "stderr",
     "output_type": "stream",
     "text": [
      "100%|██████████| 500/500 [00:23<00:00, 21.71it/s]\n",
      "100%|██████████| 500/500 [00:21<00:00, 23.61it/s]\n"
     ]
    }
   ],
   "source": [
    "from scipy.optimize import minimize\n",
    "\n",
    "n_expts = 500\n",
    "TS0 = zeros(shape=n_expts)\n",
    "TS1 = zeros(shape=n_expts)\n",
    "\n",
    "bnds1 = ((0, None), (0,None),(None, None))\n",
    "bnds0 = ((0, None),)\n",
    "\n",
    "\n",
    "P_true = 5.0\n",
    "S_true = P_true*(1/3)\n",
    "sigma_N = 1.0\n",
    "N_true = 1.0\n",
    "costh_samples = costh_T_samples(costh2Z,55.0,1.0,ngen=n_expts)\n",
    "N_samples = random.normal(loc=N_true,scale=sigma_N,size=n_expts)\n",
    "P_obs1 = P_true*costh_samples + N_samples\n",
    "P_obs0 = N_samples\n",
    "\n",
    "for expt in tqdm(range(0,n_expts)):\n",
    "    logL1 = lambda x : 0.5*(P_obs1[expt]-x[0]*x[1]-x[2])**2/sigma_N**2 + 0.5*(N_true-x[2])**2/sigma_N**2 - log(P_costh[argmin(abs(cc-x[1]))])\n",
    "    logL0 = lambda x : 0.5*(P_obs1[expt]-x[0])**2/sigma_N**2 + 0.5*(N_true-x[0])**2/sigma_N**2\n",
    "\n",
    "    x1 = array([P_true,costh_samples[expt],N_samples[expt]])\n",
    "    x0 = array([P_obs])\n",
    "    res1 = minimize(logL1,x1,bounds=bnds1)\n",
    "    res0 = minimize(logL0,x0)\n",
    "    TS1[expt] = -2*(logL1(res1.x)-logL0(res0.x))\n",
    "    \n",
    "for expt in tqdm(range(0,n_expts)):\n",
    "    logL1 = lambda x : 0.5*(P_obs0[expt]-x[0]*x[1]-x[2])**2/sigma_N**2 + 0.5*(N_true-x[2])**2/sigma_N**2 - log(P_costh[argmin(abs(cc-x[1]))])\n",
    "    logL0 = lambda x : 0.5*(P_obs0[expt]-x[0])**2/sigma_N**2 + 0.5*(N_true-x[0])**2/sigma_N**2\n",
    "\n",
    "    x1 = array([P_true,costh_samples[expt],N_samples[expt]])\n",
    "    x0 = array([P_obs])\n",
    "    res1 = minimize(logL1,x1,bounds=bnds1)\n",
    "    res0 = minimize(logL0,x0)\n",
    "    TS0[expt] = -2*(logL1(res1.x)-logL0(res0.x))"
   ]
  },
  {
   "cell_type": "code",
   "execution_count": 119,
   "metadata": {},
   "outputs": [
    {
     "data": {
      "text/plain": [
       "(array([184.,  89., 179.,  26.,   9.,   6.,   4.,   0.,   2.,   1.]),\n",
       " array([-8.21102877, -6.78897665, -5.36692453, -3.9448724 , -2.52282028,\n",
       "        -1.10076816,  0.32128396,  1.74333609,  3.16538821,  4.58744033,\n",
       "         6.00949245]),\n",
       " <a list of 10 Patch objects>)"
      ]
     },
     "execution_count": 119,
     "metadata": {},
     "output_type": "execute_result"
    },
    {
     "data": {
      "image/png": "[encoded data removed]",
      "text/plain": [
       "<Figure size 432x288 with 1 Axes>"
      ]
     },
     "metadata": {
      "needs_background": "light"
     },
     "output_type": "display_data"
    }
   ],
   "source": [
    "plt.hist(TS0)\n",
    "plt.hist(TS1)"
   ]
  },
  {
   "cell_type": "code",
   "execution_count": 120,
   "metadata": {},
   "outputs": [
    {
     "data": {
      "text/plain": [
       "(array([  5.,  18.,  60., 103., 117., 102.,  49.,  32.,  11.,   3.]),\n",
       " array([-0.75890965, -0.00720063,  0.74450838,  1.4962174 ,  2.24792641,\n",
       "         2.99963543,  3.75134444,  4.50305346,  5.25476248,  6.00647149,\n",
       "         6.75818051]),\n",
       " <a list of 10 Patch objects>)"
      ]
     },
     "execution_count": 120,
     "metadata": {},
     "output_type": "execute_result"
    },
    {
     "data": {
      "image/png": "[encoded data removed]",
      "text/plain": [
       "<Figure size 432x288 with 1 Axes>"
      ]
     },
     "metadata": {
      "needs_background": "light"
     },
     "output_type": "display_data"
    }
   ],
   "source": [
    "plt.hist(P_obs0)\n",
    "plt.hist(P_obs1)"
   ]
  },
  {
   "cell_type": "code",
   "execution_count": 139,
   "metadata": {},
   "outputs": [
    {
     "name": "stdout",
     "output_type": "stream",
     "text": [
      "0.9325\n",
      "0.8889\n"
     ]
    },
    {
     "data": {
      "image/png": "[encoded data removed]",
      "text/plain": [
       "<Figure size 432x288 with 1 Axes>"
      ]
     },
     "metadata": {
      "needs_background": "light"
     },
     "output_type": "display_data"
    }
   ],
   "source": [
    "n_expts = 10000\n",
    "P_true = 10.5\n",
    "sigma_N = 1.0\n",
    "N_true = 0.0\n",
    "costh_samples = costh_T_samples(costh2Z,45.0,0.3,ngen=n_expts)\n",
    "costh_95 = quantile(costh_samples,0.05)\n",
    "\n",
    "N_samples = random.normal(loc=N_true,scale=sigma_N,size=n_expts)\n",
    "P_obs1 = P_true*costh_samples + N_samples\n",
    "P_obs2 = P_true*quantile(costh_samples,0.22) + N_samples\n",
    "P_obs0 = N_samples\n",
    "plt.hist(P_obs0,color='k')\n",
    "plt.hist(P_obs1)\n",
    "\n",
    "plt.hist(P_obs2)\n",
    "\n",
    "print(sum(P_obs1>median(P_obs0))/n_expts)\n",
    "print(sum(P_obs2>median(P_obs0))/n_expts)"
   ]
  },
  {
   "cell_type": "code",
   "execution_count": 97,
   "metadata": {},
   "outputs": [
    {
     "data": {
      "text/plain": [
       "0.2669391070131927"
      ]
     },
     "execution_count": 97,
     "metadata": {},
     "output_type": "execute_result"
    }
   ],
   "source": [
    "median(costh_samples)"
   ]
  },
  {
   "cell_type": "code",
   "execution_count": 85,
   "metadata": {},
   "outputs": [
    {
     "data": {
      "image/png": "[encoded data removed]",
      "text/plain": [
       "<Figure size 432x288 with 1 Axes>"
      ]
     },
     "metadata": {
      "needs_background": "light"
     },
     "output_type": "display_data"
    }
   ],
   "source": [
    "P = P_true*costh_samples\n",
    "N = random.normal(loc=N_true,scale=sigma_N,size=n_expts)\n",
    "plt.hist2d(P,N);"
   ]
  },
  {
   "cell_type": "code",
   "execution_count": 471,
   "metadata": {},
   "outputs": [
    {
     "name": "stdout",
     "output_type": "stream",
     "text": [
      "0.94981\n"
     ]
    },
    {
     "data": {
      "image/png": "[encoded data removed]",
      "text/plain": [
       "<Figure size 432x288 with 1 Axes>"
      ]
     },
     "metadata": {
      "needs_background": "light"
     },
     "output_type": "display_data"
    }
   ],
   "source": [
    "sigma_N = 1.0\n",
    "P_true = 1.64\n",
    "N_true = 0.0\n",
    "N_samples = random.normal(loc=N_true,scale=sigma_N,size=n_expts)\n",
    "P_obs0 = N_samples\n",
    "P_obs1 = P_true + N_samples\n",
    "\n",
    "plt.hist(P_obs0,100)\n",
    "plt.hist(P_obs1,100)\n",
    "\n",
    "print(sum(P_obs1>median(P_obs0))/n_expts)"
   ]
  },
  {
   "cell_type": "code",
   "execution_count": 660,
   "metadata": {},
   "outputs": [],
   "source": [
    "n_expts = 100000\n",
    "costh_samples = costh_T_samples(costh2Z,35.0,0.5,ngen=n_expts)"
   ]
  },
  {
   "cell_type": "code",
   "execution_count": 661,
   "metadata": {},
   "outputs": [
    {
     "name": "stdout",
     "output_type": "stream",
     "text": [
      "0.963\n"
     ]
    },
    {
     "data": {
      "image/png": "[encoded data removed]",
      "text/plain": [
       "<Figure size 432x288 with 1 Axes>"
      ]
     },
     "metadata": {
      "needs_background": "light"
     },
     "output_type": "display_data"
    }
   ],
   "source": [
    "sigma_N = 1.0\n",
    "P_true = 1.64/(quantile(costh_samples,0.18708))\n",
    "N_true = 0.0\n",
    "N_samples = random.normal(loc=N_true,scale=sigma_N,size=n_expts)\n",
    "P_obs0 = N_samples\n",
    "P_obs1 = P_true*costh_samples + N_samples\n",
    "\n",
    "plt.hist(P_obs1,100)\n",
    "plt.hist(P_obs0,100)\n",
    "\n",
    "print(sum(P_obs1>0)/n_expts)"
   ]
  },
  {
   "cell_type": "code",
   "execution_count": 642,
   "metadata": {},
   "outputs": [
    {
     "data": {
      "text/plain": [
       "9.902620936141815"
      ]
     },
     "execution_count": 642,
     "metadata": {},
     "output_type": "execute_result"
    }
   ],
   "source": [
    "interp(0.95,Prob,P0_vals)"
   ]
  },
  {
   "cell_type": "code",
   "execution_count": 643,
   "metadata": {},
   "outputs": [
    {
     "data": {
      "text/plain": [
       "4.92"
      ]
     },
     "execution_count": 643,
     "metadata": {},
     "output_type": "execute_result"
    }
   ],
   "source": [
    "P_true"
   ]
  },
  {
   "cell_type": "code",
   "execution_count": 664,
   "metadata": {},
   "outputs": [
    {
     "name": "stdout",
     "output_type": "stream",
     "text": [
      "0.21435791455452619 0.1142602026855852\n"
     ]
    }
   ],
   "source": [
    "from scipy import stats\n",
    "\n",
    "n =100\n",
    "\n",
    "P0_vals = linspace(0,100,n)\n",
    "Prob = zeros((n))\n",
    "for i in range(0,n):\n",
    "    h,ce = histogram(P0_vals[i]*costh_samples,nbins)\n",
    "    cc = (ce[1:]+ce[0:-1])/2\n",
    "    P_costh = h/sum(h)\n",
    "    f = 0.5*(1+erf((-cc)/sqrt(2)))\n",
    "    Prob[i] = 1-sum(f*P_costh)\n",
    "    \n",
    "P0_vals = linspace(0,100,n)\n",
    "Prob_disc = zeros((n))\n",
    "for i in range(0,n):\n",
    "    h,ce = histogram(P0_vals[i]*costh_samples,nbins)\n",
    "    cc = (ce[1:]+ce[0:-1])/2\n",
    "    P_costh = h/sum(h)\n",
    "    f = 0.5*(1+erf((3-cc)/sqrt(2)))\n",
    "    Prob_disc[i] = 1-sum(f*P_costh)\n",
    "    \n",
    "PX_excl = interp(0.95,Prob,P0_vals)\n",
    "PX_disc = interp(0.95,Prob_disc,P0_vals)\n",
    "    \n",
    "cval_excl = 1.64/PX_excl\n",
    "cval_disc = (3+1.64)/PX_disc\n",
    "print(cval_excl,cval_disc)"
   ]
  },
  {
   "cell_type": "code",
   "execution_count": 669,
   "metadata": {},
   "outputs": [
    {
     "name": "stdout",
     "output_type": "stream",
     "text": [
      "0.10012\n",
      "0.2444\n"
     ]
    },
    {
     "data": {
      "image/png": "[encoded data removed]",
      "text/plain": [
       "<Figure size 432x288 with 1 Axes>"
      ]
     },
     "metadata": {
      "needs_background": "light"
     },
     "output_type": "display_data"
    }
   ],
   "source": [
    "plt.hist(costh_samples)\n",
    "plt.axvline(cval_disc,color='r')\n",
    "plt.axvline(cval_excl,color='k')\n",
    "\n",
    "print(stats.percentileofscore(costh_samples,cval_disc)/100)\n",
    "print(stats.percentileofscore(costh_samples,cval_excl)/100)"
   ]
  },
  {
   "cell_type": "code",
   "execution_count": 438,
   "metadata": {},
   "outputs": [
    {
     "name": "stderr",
     "output_type": "stream",
     "text": [
      "100%|██████████| 50/50 [00:20<00:00,  2.40it/s]\n"
     ]
    }
   ],
   "source": [
    "from scipy import stats\n",
    "\n",
    "def FindPercentile(costh_samples,nbins=100,n_expts=100000):\n",
    "    h,ce = histogram(costh_samples,nbins)\n",
    "    cc = (ce[1:]+ce[0:-1])/2\n",
    "    P_costh = h/sum(h) \n",
    "\n",
    "    P0_vals = linspace(0,200,nbins)\n",
    "    Prob = zeros((nbins))\n",
    "    for i in range(0,nbins):\n",
    "        f = 0.5*(1+erf(-P0_vals[i]*cc/sqrt(2)))\n",
    "        Prob[i] = 1-sum(f*P_costh)\n",
    "\n",
    "\n",
    "    cval = 1.64/interp(0.95,Prob,P0_vals)\n",
    "\n",
    "    percentile = stats.percentileofscore(costh_samples,cval)/100\n",
    "    return percentile,cval\n",
    "\n",
    "nT = 50\n",
    "Tvals = linspace(0.01,1.0,nT)\n",
    "P = zeros((nT))\n",
    "costhP = zeros((nT))\n",
    "for i in tqdm(range(0,nT)):\n",
    "    n_expts = 10000\n",
    "    costh_samples = costh_T_samples(costh2Z,35.0,Tvals[i],ngen=n_expts)\n",
    "    P[i],costhP[i] = FindPercentile(costh_samples)\n"
   ]
  },
  {
   "cell_type": "code",
   "execution_count": 439,
   "metadata": {},
   "outputs": [
    {
     "data": {
      "text/plain": [
       "[<matplotlib.lines.Line2D at 0x7fac31ed7550>]"
      ]
     },
     "execution_count": 439,
     "metadata": {},
     "output_type": "execute_result"
    },
    {
     "data": {
      "image/png": "[encoded data removed]",
      "text/plain": [
       "<Figure size 432x288 with 1 Axes>"
      ]
     },
     "metadata": {
      "needs_background": "light"
     },
     "output_type": "display_data"
    }
   ],
   "source": [
    "plt.plot(Tvals,P)"
   ]
  },
  {
   "cell_type": "code",
   "execution_count": 435,
   "metadata": {},
   "outputs": [
    {
     "data": {
      "text/plain": [
       "[<matplotlib.lines.Line2D at 0x7fac621dd310>]"
      ]
     },
     "execution_count": 435,
     "metadata": {},
     "output_type": "execute_result"
    },
    {
     "data": {
      "image/png": "[encoded data removed]",
      "text/plain": [
       "<Figure size 432x288 with 1 Axes>"
      ]
     },
     "metadata": {
      "needs_background": "light"
     },
     "output_type": "display_data"
    }
   ],
   "source": [
    "plt.plot(Tvals,costhP)"
   ]
  },
  {
   "cell_type": "code",
   "execution_count": 440,
   "metadata": {},
   "outputs": [
    {
     "data": {
      "text/plain": [
       "[<matplotlib.lines.Line2D at 0x7fac4144cf90>]"
      ]
     },
     "execution_count": 440,
     "metadata": {},
     "output_type": "execute_result"
    },
    {
     "data": {
      "image/png": "[encoded data removed]",
      "text/plain": [
       "<Figure size 432x288 with 1 Axes>"
      ]
     },
     "metadata": {
      "needs_background": "light"
     },
     "output_type": "display_data"
    }
   ],
   "source": [
    "plt.plot(Tvals,costhP)"
   ]
  },
  {
   "cell_type": "code",
   "execution_count": null,
   "metadata": {},
   "outputs": [],
   "source": []
  }
 ],
 "metadata": {
  "kernelspec": {
   "display_name": "Python 3",
   "language": "python",
   "name": "python3"
  },
  "language_info": {
   "codemirror_mode": {
    "name": "ipython",
    "version": 3
   },
   "file_extension": ".py",
   "mimetype": "text/x-python",
   "name": "python",
   "nbconvert_exporter": "python",
   "pygments_lexer": "ipython3",
   "version": "3.7.6"
  }
 },
 "nbformat": 4,
 "nbformat_minor": 4
}
